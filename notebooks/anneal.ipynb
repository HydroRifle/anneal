{
 "cells": [
  {
   "cell_type": "code",
   "execution_count": 37,
   "metadata": {
    "collapsed": false
   },
   "outputs": [],
   "source": [
    "%matplotlib inline\n",
    "import matplotlib.pyplot as plt\n",
    "\n",
    "import abc\n",
    "import collections\n",
    "import math\n",
    "import random\n",
    "\n",
    "import numpy as np\n",
    "import scipy.sparse as sp"
   ]
  },
  {
   "cell_type": "code",
   "execution_count": 2,
   "metadata": {
    "collapsed": false
   },
   "outputs": [],
   "source": [
    "class PhysicalModel(metaclass=abc.ABCMeta):        \n",
    "    @abc.abstractmethod\n",
    "    def get_energy(self):\n",
    "        pass\n",
    "    \n",
    "    @abc.abstractmethod\n",
    "    def get_state(self):\n",
    "        pass\n",
    "    \n",
    "    @abc.abstractmethod\n",
    "    def update(self):\n",
    "        pass\n",
    "    \n",
    "    @property\n",
    "    def energy(self):\n",
    "        return self.get_energy()\n",
    "    \n",
    "    @property\n",
    "    def state(self):\n",
    "        return self.get_state()"
   ]
  },
  {
   "cell_type": "code",
   "execution_count": 100,
   "metadata": {
    "collapsed": true
   },
   "outputs": [],
   "source": [
    "class IsingModel(PhysicalModel):\n",
    "    def __init__(self, lattice_shape, j, h=None, beta=40, neighbor_size=2):\n",
    "        \"\"\"Class of Ising model.\n",
    "\n",
    "        Arguments:\n",
    "            lattice_shape (tuple): Shape of lattice.\n",
    "            j (dict): Interaction strength.\n",
    "            h (np.ndarray): external field strength.\n",
    "            neighbor_size (int): Size of neighbors.\n",
    "        \"\"\"\n",
    "        super().__init__()\n",
    "        \n",
    "        self.lattice_shape = lattice_shape\n",
    "        self.lattice_size = np.prod(lattice_shape)\n",
    "        self.j = j\n",
    "        self.h = h\n",
    "        self.beta = beta\n",
    "        self.neighbor_size = neighbor_size\n",
    "\n",
    "        # J for flatten state\n",
    "        self._flat_j = sp.dok_matrix((self.lattice_size, self.lattice_size))\n",
    "        for k, v in j.items():\n",
    "            x = np.ravel_multi_index(k[len(k)//2:], lattice_shape)\n",
    "            y = np.ravel_multi_index(k[:len(k)//2], lattice_shape)\n",
    "            self._flat_j[x, y] = self._flat_j[y, x] = v  # j must be symmetric.\n",
    "            \n",
    "        # H for flatten state\n",
    "        self._flat_h = np.zeros(self.lattice_size)\n",
    "        if h is not None:\n",
    "            assert h.shape == lattice_shape\n",
    "            self._flat_h = h.flatten()\n",
    "\n",
    "        self._state = self.generate_initial_state()\n",
    "\n",
    "    def generate_initial_state(self):\n",
    "        return np.random.randint(2, size=self.lattice_shape)*2 - 1\n",
    "\n",
    "    def get_state(self):\n",
    "        return self._state\n",
    "\n",
    "    def get_energy(self):\n",
    "        flatten = self._state.ravel()\n",
    "        e = flatten.T.dot(self._flat_j.dot(flatten))\n",
    "        e += self._flat_h.dot(flatten) if self.h is not None else 0.\n",
    "        return e\n",
    "\n",
    "    def update(self):\n",
    "        assert hasattr(self, 'beta')\n",
    "        \n",
    "        current_energy = self.get_energy()\n",
    "        num_flip = np.random.randint(self.neighbor_size) + 1\n",
    "        indices = np.random.choice(\n",
    "            range(self.lattice_size),\n",
    "            num_flip,\n",
    "            replace=False\n",
    "        )\n",
    "\n",
    "        self._flip_spins(indices)\n",
    "\n",
    "        candidate_energy = self.get_energy()\n",
    "        delta = max(0.0, candidate_energy - current_energy)\n",
    "\n",
    "        if math.exp(-self.beta*delta) >= random.random():\n",
    "            return True\n",
    "        else:\n",
    "            # revert flipped spins\n",
    "            self._flip_spins(indices)\n",
    "            return False\n",
    "\n",
    "    def _flip_spins(self, flatten_indices):\n",
    "        for idx in flatten_indices:\n",
    "            value = self.state.take(idx)\n",
    "            self.state.put(idx, -value)\n",
    "        return self.state"
   ]
  },
  {
   "cell_type": "code",
   "execution_count": 4,
   "metadata": {
    "collapsed": true
   },
   "outputs": [],
   "source": [
    "class QuantumIsingModel(IsingModel):\n",
    "    def __init__(self, lattice_shape, j, h=None, beta=1., gamma=10.0, n_trotter=32, neighbor_size=2):\n",
    "        self.gamma = gamma\n",
    "        self.n_trotter = n_trotter\n",
    "        super().__init__(lattice_shape, j, h, beta, neighbor_size)\n",
    "        \n",
    "    def generate_initial_state(self):\n",
    "        _super = super()\n",
    "        return np.array([_super.generate_initial_state() for _ in range(self.n_trotter)])\n",
    "    \n",
    "    @property\n",
    "    def classical_state(self):\n",
    "        return self.get_best_layer()\n",
    "    \n",
    "    def get_best_layer(self):\n",
    "        min_energy = np.inf\n",
    "        best_layer = None\n",
    "        flatten = self._state.reshape((-1, self.n_trotter))\n",
    "        for i in range(self.n_trotter):\n",
    "            layer = flatten[:, i]\n",
    "            energy = self._get_classical_energy(layer)\n",
    "            if energy <= min_energy:\n",
    "                min_energy = energy\n",
    "                best_layer = layer\n",
    "        return best_layer.reshape(self.lattice_shape)\n",
    "        \n",
    "    @property\n",
    "    def classical_energy(self):\n",
    "        flatten = self.classical_state.ravel()\n",
    "        return self._get_classical_energy(flatten)\n",
    "    \n",
    "    def _get_classical_energy(self, flatten_state):\n",
    "        e = flatten_state.T.dot(self._flat_j.dot(flatten_state)).mean()\n",
    "        e += self._flat_h.dot(flatten_state).mean() if self.h is not None else 0.\n",
    "        return e\n",
    "    \n",
    "    def _get_quantum_energy(self, flatten_state, beta, gamma):\n",
    "        n_trotter = flatten_state.shape[-1]\n",
    "        coeff = self._logcoth(beta*gamma/n_trotter)/2.\n",
    "        return coeff*(\n",
    "            (flatten_state[:, :-1]*flatten_state[:, 1:]).sum()\n",
    "            + (flatten_state[:, -1]*flatten_state[:, 0]).sum()\n",
    "        )\n",
    "        \n",
    "    def get_energy(self):\n",
    "        flatten = self._state.reshape((-1, self.n_trotter))\n",
    "        e = self._get_classical_energy(flatten)\n",
    "        e += self._get_quantum_energy(flatten, self.beta, self.gamma)\n",
    "        return e\n",
    "    \n",
    "    def update(self):\n",
    "        assert hasattr(self, 'beta')\n",
    "        assert hasattr(self, 'gamma')\n",
    "        \n",
    "        current_energy = self.get_energy()\n",
    "        num_flip = (np.random.randint(self.neighbor_size) + 1)*self.n_trotter\n",
    "        indices = np.random.choice(\n",
    "            range(self.lattice_size*self.n_trotter),\n",
    "            num_flip,\n",
    "            replace=False\n",
    "        )\n",
    "\n",
    "        self._flip_spins(indices)\n",
    "\n",
    "        candidate_energy = self.get_energy()\n",
    "        delta = max(0.0, candidate_energy - current_energy)\n",
    "\n",
    "        if math.exp(-self.beta*delta) >= random.random():\n",
    "            return True\n",
    "        else:\n",
    "            # revert flipped spins\n",
    "            self._flip_spins(indices)\n",
    "            return False\n",
    "    \n",
    "    @staticmethod\n",
    "    def _logcoth(x):\n",
    "        return np.log(np.cosh(x)/np.sinh(x))"
   ]
  },
  {
   "cell_type": "code",
   "execution_count": 5,
   "metadata": {
    "collapsed": false
   },
   "outputs": [],
   "source": [
    "j = {\n",
    "    (0, 0, 0, 1): 1.0,\n",
    "    (0, 0, 1, 0): -1.0,\n",
    "    (1, 0, 1, 1): 1.0,\n",
    "    (1, 0, 2, 0): -1.0,\n",
    "    (0, 1, 0, 2): 1.0,\n",
    "    (2, 0, 0, 2): 1.0,\n",
    "}\n",
    "\n",
    "h = np.array([\n",
    "   [0.0, 0.01, 0.02],\n",
    "    [0.01, 0.02, 0.03],\n",
    "    [0.02, 0.03, 0.04]\n",
    "])"
   ]
  },
  {
   "cell_type": "code",
   "execution_count": 6,
   "metadata": {
    "collapsed": false
   },
   "outputs": [],
   "source": [
    "c_model = IsingModel(j=j, h=h, lattice_shape=(3, 3))\n",
    "q_model =QuantumIsingModel(j=j, h=h, n_trotter=5, lattice_shape=(3, 3))"
   ]
  },
  {
   "cell_type": "code",
   "execution_count": 7,
   "metadata": {
    "collapsed": false
   },
   "outputs": [
    {
     "name": "stdout",
     "output_type": "stream",
     "text": [
      "0.1\n",
      "0.741046937884\n"
     ]
    }
   ],
   "source": [
    "print(c_model.get_energy())\n",
    "print(q_model.get_energy())"
   ]
  },
  {
   "cell_type": "code",
   "execution_count": 8,
   "metadata": {
    "collapsed": false
   },
   "outputs": [
    {
     "data": {
      "text/plain": [
       "[<matplotlib.lines.Line2D at 0x108166978>]"
      ]
     },
     "execution_count": 8,
     "metadata": {},
     "output_type": "execute_result"
    },
    {
     "data": {
      "image/png": "[encoded data removed]",
      "text/plain": [
       "<matplotlib.figure.Figure at 0x105f0db00>"
      ]
     },
     "metadata": {},
     "output_type": "display_data"
    }
   ],
   "source": [
    "c_energies = []\n",
    "for _ in range(100):\n",
    "    c_energies.append(c_model.energy)\n",
    "    c_model.update()\n",
    "    c_model.beta /= 0.9\n",
    "plt.plot(c_energies)"
   ]
  },
  {
   "cell_type": "code",
   "execution_count": 9,
   "metadata": {
    "collapsed": false
   },
   "outputs": [
    {
     "data": {
      "text/plain": [
       "[<matplotlib.lines.Line2D at 0x10820aa58>]"
      ]
     },
     "execution_count": 9,
     "metadata": {},
     "output_type": "execute_result"
    },
    {
     "data": {
      "image/png": "[encoded data removed]",
      "text/plain": [
       "<matplotlib.figure.Figure at 0x1081a9588>"
      ]
     },
     "metadata": {},
     "output_type": "display_data"
    }
   ],
   "source": [
    "q_energies = []\n",
    "for _ in range(100):\n",
    "    q_energies.append(q_model.classical_energy)\n",
    "    q_model.update()\n",
    "    q_model.beta /= 0.9\n",
    "    q_model.gamma *= 0.9\n",
    "plt.plot(q_energies)"
   ]
  },
  {
   "cell_type": "code",
   "execution_count": 10,
   "metadata": {
    "collapsed": true
   },
   "outputs": [],
   "source": [
    "class Annealer(metaclass=abc.ABCMeta):\n",
    "    def __init__(self, model):\n",
    "        self.model = model\n",
    "        \n",
    "    def anneal(self, **kwargs):\n",
    "        return self.optimize(**kwargs)\n",
    "    \n",
    "    def optimize(self, max_iter=1000, iter_callback=None, **kwargs):\n",
    "        self.setup()\n",
    "        for _ in range(max_iter):\n",
    "            if self.is_frozen():\n",
    "                break\n",
    "            state_is_updated = self.model.update()\n",
    "            self.update(state_is_updated)\n",
    "            if iter_callback:\n",
    "                iter_callback(self, state_is_updated)\n",
    "        else:\n",
    "            pass\n",
    "        self.terminate()\n",
    "        return self.model\n",
    "        \n",
    "    def setup(self):\n",
    "        pass\n",
    "    \n",
    "    def terminate(self):\n",
    "        pass\n",
    "    \n",
    "    @abc.abstractmethod\n",
    "    def is_frozen(self):\n",
    "        pass\n",
    "    \n",
    "    @abc.abstractmethod\n",
    "    def update(self, state_is_updated):\n",
    "        pass"
   ]
  },
  {
   "cell_type": "code",
   "execution_count": 11,
   "metadata": {
    "collapsed": true
   },
   "outputs": [],
   "source": [
    "class SimulatedAnnealer(Annealer):\n",
    "    def __init__(self, model, beta_factor=0.95, freeze_limit=10):\n",
    "        super().__init__( model)\n",
    "        \n",
    "        self.beta_factor = beta_factor\n",
    "        self.freeze_limit = freeze_limit\n",
    "        self.freeze_count = 0\n",
    "        self.min_energy = self.model.energy\n",
    "        \n",
    "    def is_frozen(self):\n",
    "        return self.freeze_count >= self.freeze_limit\n",
    "    \n",
    "    def update(self, state_is_updated):\n",
    "        energy = self.model.energy\n",
    "        if state_is_updated and energy < self.min_energy:\n",
    "            self.min_energy = energy\n",
    "            self.freeze_count = 0\n",
    "        else:\n",
    "            self.freeze_count += 1\n",
    "            \n",
    "        self.model.beta /= self.beta_factor"
   ]
  },
  {
   "cell_type": "code",
   "execution_count": 12,
   "metadata": {
    "collapsed": true
   },
   "outputs": [],
   "source": [
    "class QuantumAnnealer(Annealer):\n",
    "    def __init__(self, model, beta_factor=0.95, gamma_factor=0.9, freeze_limit=10):\n",
    "        super().__init__( model)\n",
    "        \n",
    "        self.beta_factor = beta_factor\n",
    "        self.gamma_factor = gamma_factor\n",
    "        self.freeze_limit = freeze_limit\n",
    "        self.freeze_count = 0\n",
    "        self.min_energy = self.model.energy\n",
    "        \n",
    "    def is_frozen(self):\n",
    "        return self.freeze_count >= self.freeze_limit\n",
    "    \n",
    "    def update(self, state_is_updated):\n",
    "        energy = self.model.energy\n",
    "        if state_is_updated and energy < self.min_energy:\n",
    "            self.min_energy = energy\n",
    "            self.freeze_count = 0\n",
    "        else:\n",
    "            self.freeze_count += 1\n",
    "            \n",
    "        self.model.beta /= self.beta_factor\n",
    "        self.model.gamma *= self.gamma_factor"
   ]
  },
  {
   "cell_type": "code",
   "execution_count": 13,
   "metadata": {
    "collapsed": false
   },
   "outputs": [],
   "source": [
    "c_annealer = SimulatedAnnealer(c_model)"
   ]
  },
  {
   "cell_type": "code",
   "execution_count": 14,
   "metadata": {
    "collapsed": false
   },
   "outputs": [
    {
     "name": "stdout",
     "output_type": "stream",
     "text": [
      "True\n",
      "-8.1\n",
      "[[ 1 -1  1]\n",
      " [-1  1 -1]\n",
      " [-1 -1 -1]]\n"
     ]
    }
   ],
   "source": [
    "c_annealer.anneal()\n",
    "print(c_annealer.is_frozen())\n",
    "print(c_annealer.model.energy)\n",
    "print(c_annealer.model.state)"
   ]
  },
  {
   "cell_type": "code",
   "execution_count": 15,
   "metadata": {
    "collapsed": false
   },
   "outputs": [],
   "source": [
    "q_annealer = QuantumAnnealer(q_model)"
   ]
  },
  {
   "cell_type": "code",
   "execution_count": 16,
   "metadata": {
    "collapsed": false
   },
   "outputs": [
    {
     "name": "stdout",
     "output_type": "stream",
     "text": [
      "True\n",
      "-8.08\n",
      "[[ 1 -1  1]\n",
      " [ 1 -1 -1]\n",
      " [ 1 -1 -1]]\n"
     ]
    }
   ],
   "source": [
    "q_annealer.anneal()\n",
    "print(q_annealer.is_frozen())\n",
    "print(q_annealer.model.classical_energy)\n",
    "print(q_annealer.model.classical_state)"
   ]
  },
  {
   "cell_type": "markdown",
   "metadata": {},
   "source": [
    "## Travelling Salesman Problem\n",
    "\n",
    "|変数|内容|\n",
    "|:--:|:---|\n",
    "|ハミルトニアン| $\n",
    "\\frac{1}{4}\\Sigma_{i, a, b}D_{ab}\\sigma_{i,a}\\sigma_{i+1, b}\n",
    "+ F\\Sigma_{i, j, a}\\sigma_{i, a}\\sigma_{j, a}\n",
    "+ G\\Sigma_{i, a, b}\\sigma_{i, a}\\sigma_{i, b}\n",
    "+\\frac{1}{2}\\Sigma_{i, a, b}D_{a, b}\\sigma_{i, a}\n",
    "+(N-2)F\\Sigma_{i, a}\\sigma_{i, a}\n",
    "+(N-2)G\\Sigma_{i, a}\\sigma_{i, a}\n",
    "$|\n",
    "||$\n",
    "\\Sigma_{t,a \\neq b}d_{a,b}\\sigma_{t, a}\\sigma_{t+1, b}\n",
    "+F\\Sigma_{a, t, u}\\sigma_{t,a}\\sigma_{u,a}\n",
    "+F\\Sigma_{t, a, b}\\sigma_{t,a}\\sigma_{t,b}\n",
    "+2\\Sigma_{t,a\\neq b}d_{a,b}\\sigma_{t,a}\n",
    "+4(N-2)F\\Sigma_{a,t}\\sigma_{t, a}\n",
    "$|\n",
    "|lattice_shape| #city x #city (time, place)|\n",
    "|$D_{a, b}$| ab 間の距離|\n",
    "|F| 時間方向の制約の強さ|\n",
    "|G|場所方向の制約の強さ|\n",
    "\n",
    "物理マシンを想定していると\n",
    "\n",
    "- 制約条件を如何に取り扱うかが難しい\n",
    "  - 勝手な近傍を選べない\n",
    "- Jを予め決めておかなければならない\n",
    "  - Jの形も、マシンによって制約が違うはず\n",
    "- T/Gammaのスケジューリングは??"
   ]
  },
  {
   "cell_type": "code",
   "execution_count": 184,
   "metadata": {
    "collapsed": false
   },
   "outputs": [],
   "source": [
    "def load_data(tsp_filename):\n",
    "    positions = []\n",
    "    city_ids = []\n",
    "    with open(tsp_filename) as input_:\n",
    "        for l in input_:\n",
    "            if l.strip() == 'NODE_COORD_SECTION':\n",
    "                break\n",
    "        for l in input_:\n",
    "            if l.strip() == 'EOF':\n",
    "                break\n",
    "            row = l.strip().split(' ')\n",
    "            city_id = row[0]\n",
    "            x = float(row[1])\n",
    "            y = float(row[2])\n",
    "            positions.append((x, y))\n",
    "            city_ids.append(city_id)\n",
    "    return positions, city_ids\n",
    "\n",
    "def distance(pos1, pos2):\n",
    "    x = pos1[0] - pos2[0]\n",
    "    y = pos1[1] - pos2[1]\n",
    "    return math.sqrt(x**2 + y**2)\n",
    "\n",
    "def build_j(positions, f=1000.0):\n",
    "    j = collections.defaultdict(float)\n",
    "    n = len(positions)\n",
    "    for t in range(n):\n",
    "        for id1, pos1 in enumerate(positions):\n",
    "            for id2, pos2 in enumerate(positions):\n",
    "                if id1 != id2:\n",
    "                    j[t, id1, (t+1)%n, id2] = distance(pos1, pos2)\n",
    "    \n",
    "    for  t in range(n):\n",
    "        for a in range(n):\n",
    "            for b in range(n):\n",
    "                    j[t, a, t, b] += f\n",
    "                    \n",
    "    for t in range(n):\n",
    "        for u in range(n):\n",
    "            for a in range(n):\n",
    "                j[t, a, u, a] += f\n",
    "                \n",
    "    return j\n",
    "\n",
    "def build_h(positions, f=1000.0):\n",
    "    n = len(positions)\n",
    "    h = np.zeros((n, n))\n",
    "    \n",
    "    for t in range(n):\n",
    "        for a, pos1 in enumerate(positions):\n",
    "            for b, pos2 in enumerate(positions):\n",
    "                if a != b:\n",
    "                    h[t, a] += 2*distance(pos1, pos2)\n",
    "    \n",
    "    for t in range(n):\n",
    "        for a in range(n):\n",
    "            h[t, a] += 4*(n-2)*f\n",
    "    \n",
    "    return h"
   ]
  },
  {
   "cell_type": "code",
   "execution_count": 227,
   "metadata": {
    "collapsed": true
   },
   "outputs": [],
   "source": [
    "# cities = load_data('/Users/mitsuhisa.ohta/Desktop/ja9847.tsp')\n",
    "positions, city_ids = load_data('/Users/mitsuhisa.ohta/Desktop/dj38.tsp')"
   ]
  },
  {
   "cell_type": "code",
   "execution_count": 234,
   "metadata": {
    "collapsed": false
   },
   "outputs": [],
   "source": [
    "j = build_j(positions, f=10000.)\n",
    "h = build_h(positions, f=10000.)\n",
    "n = len(positions)\n",
    "lattice_shape = (n, n)"
   ]
  },
  {
   "cell_type": "code",
   "execution_count": 235,
   "metadata": {
    "collapsed": false
   },
   "outputs": [],
   "source": [
    "model = IsingModel(j=j, h=h, lattice_shape=lattice_shape, neighbor_size=10)"
   ]
  },
  {
   "cell_type": "code",
   "execution_count": 236,
   "metadata": {
    "collapsed": false
   },
   "outputs": [],
   "source": [
    "annealer = SimulatedAnnealer(model, freeze_limit=1000)"
   ]
  },
  {
   "cell_type": "code",
   "execution_count": null,
   "metadata": {
    "collapsed": false
   },
   "outputs": [],
   "source": [
    "%%time\n",
    "energy_history = []\n",
    "\n",
    "def callback(annealer, state_is_updated):\n",
    "    energy_history.append(annealer.model.energy)    \n",
    "\n",
    "annealer.anneal(iter_callback=callback)"
   ]
  },
  {
   "cell_type": "code",
   "execution_count": 232,
   "metadata": {
    "collapsed": false,
    "scrolled": true
   },
   "outputs": [
    {
     "data": {
      "text/plain": [
       "[<matplotlib.lines.Line2D at 0x127e8ccf8>]"
      ]
     },
     "execution_count": 232,
     "metadata": {},
     "output_type": "execute_result"
    },
    {
     "data": {
      "image/png": "[encoded data removed]",
      "text/plain": [
       "<matplotlib.figure.Figure at 0x127caf550>"
      ]
     },
     "metadata": {},
     "output_type": "display_data"
    }
   ],
   "source": [
    "plt.plot(energy_history)"
   ]
  },
  {
   "cell_type": "code",
   "execution_count": 233,
   "metadata": {
    "collapsed": false
   },
   "outputs": [
    {
     "data": {
      "text/plain": [
       "array([[0, 0, 0, 0, 0, 0, 0, 2, 0, 0],\n",
       "       [0, 0, 0, 2, 0, 0, 0, 0, 2, 0],\n",
       "       [0, 0, 0, 0, 0, 0, 0, 0, 2, 0],\n",
       "       [0, 0, 2, 2, 0, 0, 0, 0, 0, 0],\n",
       "       [2, 0, 0, 0, 0, 0, 0, 0, 0, 0],\n",
       "       [0, 2, 0, 0, 0, 0, 0, 0, 0, 0],\n",
       "       [0, 0, 0, 0, 2, 0, 2, 0, 0, 0],\n",
       "       [0, 0, 0, 0, 0, 2, 0, 0, 0, 0],\n",
       "       [0, 0, 0, 0, 0, 0, 0, 0, 0, 2],\n",
       "       [0, 0, 0, 0, 2, 0, 0, 0, 0, 0]])"
      ]
     },
     "execution_count": 233,
     "metadata": {},
     "output_type": "execute_result"
    }
   ],
   "source": [
    "annealer.model.state + 1"
   ]
  },
  {
   "cell_type": "code",
   "execution_count": null,
   "metadata": {
    "collapsed": true
   },
   "outputs": [],
   "source": []
  }
 ],
 "metadata": {
  "kernelspec": {
   "display_name": "Python 3",
   "language": "python",
   "name": "python3"
  },
  "language_info": {
   "codemirror_mode": {
    "name": "ipython",
    "version": 3
   },
   "file_extension": ".py",
   "mimetype": "text/x-python",
   "name": "python",
   "nbconvert_exporter": "python",
   "pygments_lexer": "ipython3",
   "version": "3.5.1"
  }
 },
 "nbformat": 4,
 "nbformat_minor": 2
}
