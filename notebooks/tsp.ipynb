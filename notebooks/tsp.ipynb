{
 "cells": [
  {
   "cell_type": "markdown",
   "metadata": {},
   "source": [
    "# TSP (巡回セールスマン問題)\n",
    "\n",
    "ここでは、[[Andrew Lucas, 2013]](https://arxiv.org/abs/1302.5843) に沿って TSP をイジング模型で定式化し、シミュレーティッドアニーリングと量子アニーリングで解いてみます。"
   ]
  },
  {
   "cell_type": "code",
   "execution_count": 1,
   "metadata": {
    "collapsed": false
   },
   "outputs": [],
   "source": [
    "%matplotlib inline\n",
    "\n",
    "import collections\n",
    "import time\n",
    "\n",
    "import matplotlib.pyplot as plt\n",
    "import numpy as np\n",
    "\n",
    "import anneal\n",
    "from anneal.models import ClassicalIsingModel, QuantumIsingModel\n",
    "from anneal.annealers import SimulatedAnnealer, QuantumAnnealer"
   ]
  },
  {
   "cell_type": "markdown",
   "metadata": {},
   "source": [
    "まずは、距離関数と各種重みを構築する関数を定義します。"
   ]
  },
  {
   "cell_type": "code",
   "execution_count": 2,
   "metadata": {
    "collapsed": false
   },
   "outputs": [],
   "source": [
    "POSITIONS = np.array((\n",
    "    (24050.0000, 123783),\n",
    "    (24216.6667, 123933),\n",
    "    (24233.3333, 123950),\n",
    "    (24233.3333, 124016),\n",
    "    (24250.0000, 123866),\n",
    "    (24300.0000, 123683),\n",
    "    (24316.6667, 123900),\n",
    "    (24316.6667, 124083),\n",
    "    (24333.3333, 123733),\n",
    "    (24333.3333, 123983),\n",
    "    (24333.3333, 124150),\n",
    "    (24333.3333, 124200),\n",
    "    (24350.0000, 123733),\n",
    "    (24350.0000, 123750),\n",
    "    (24350.0000, 124216),\n",
    "))"
   ]
  },
  {
   "cell_type": "code",
   "execution_count": 3,
   "metadata": {
    "collapsed": true
   },
   "outputs": [],
   "source": [
    "def dist(a, b):\n",
    "    a = np.array(a)\n",
    "    b = np.array(b)\n",
    "    return np.sqrt(((a - b)**2).sum())\n",
    "\n",
    "def build_weights(positions, coeff=500):\n",
    "    n_cities = len(positions)\n",
    "\n",
    "    j = collections.defaultdict(int)\n",
    "    max_dist = 0\n",
    "    for t in range(n_cities - 2):\n",
    "        for a in range(n_cities - 1):\n",
    "            for b in range(n_cities - 1):\n",
    "                d = dist(positions[a], positions[b])\n",
    "                max_dist = d if max_dist < d else max_dist\n",
    "                j[t, a, t + 1, b] = -d\n",
    "\n",
    "    A = max_dist * coeff\n",
    "    for t in range(n_cities - 1):\n",
    "        for a in range(n_cities - 1):\n",
    "            for b in range(n_cities - 1):\n",
    "                if a != b:\n",
    "                    j[t, a, t, b] -= 2*A\n",
    "\n",
    "    for a in range(n_cities - 1):\n",
    "        for t1 in range(n_cities - 1):\n",
    "            for t2 in range(n_cities - 1):\n",
    "                if t1 != t2:\n",
    "                    j[t1, a, t2, a] -= 2*A\n",
    "\n",
    "    h = np.zeros((n_cities - 1, n_cities - 1))\n",
    "    for t in range(n_cities - 1):\n",
    "        for a in range(n_cities - 1):\n",
    "            h[t, a] += 2*A\n",
    "            \n",
    "    for a in range(n_cities - 1):\n",
    "        d = dist(positions[-1], positions[a])\n",
    "        h[0, a] -= d\n",
    "        h[-1, a] -= d\n",
    "\n",
    "    c = -2*A*n_cities\n",
    "    return j, h, c"
   ]
  },
  {
   "cell_type": "markdown",
   "metadata": {},
   "source": [
    "コールバック関数を定義"
   ]
  },
  {
   "cell_type": "code",
   "execution_count": 4,
   "metadata": {
    "collapsed": true
   },
   "outputs": [],
   "source": [
    "class Callback(object):\n",
    "    def __init__(self):\n",
    "        self.history = []\n",
    "        \n",
    "    def __call__(self, annealer, state_is_updated, model_is_updated):\n",
    "        objective_value = annealer.model.objective_value()\n",
    "        self.history.append(objective_value)\n",
    "        if annealer.iter_count % 500 == 0:\n",
    "            if isinstance(annealer.model, QuantumIsingModel):\n",
    "                state = annealer.model.observe_best()\n",
    "            else:\n",
    "                state = annealer.model.state\n",
    "            print(\"{}: {}'th iter, beta: {}, gamma: {}, objective_value: {}, is_valid: {}\".format(\n",
    "                annealer.__class__.__name__,\n",
    "                annealer.iter_count,\n",
    "                annealer.model.beta,\n",
    "                annealer.model.__dict__.get('gamma', 0),\n",
    "                objective_value,\n",
    "                self.check_constraints(state)\n",
    "            ))\n",
    "            \n",
    "    def check_constraints(self, state):\n",
    "        return (\n",
    "            (state.to_array().sum(axis=1) == 1).all()\n",
    "            and (state.to_array().sum(axis=0) == 1).all()\n",
    "        )\n"
   ]
  },
  {
   "cell_type": "code",
   "execution_count": 5,
   "metadata": {
    "collapsed": false
   },
   "outputs": [],
   "source": [
    "j, h, c = build_weights(POSITIONS, 1.0)"
   ]
  },
  {
   "cell_type": "code",
   "execution_count": 6,
   "metadata": {
    "collapsed": false,
    "scrolled": false
   },
   "outputs": [
    {
     "name": "stdout",
     "output_type": "stream",
     "text": [
      "0th challenge.\n",
      "SimulatedAnnealer: 500'th iter, beta: 12.44820102749488, gamma: 0, objective_value: 14082.465741304533, is_valid: False\n",
      "SimulatedAnnealer: 1000'th iter, beta: 1894.5640597712063, gamma: 0, objective_value: 4411.170119516368, is_valid: True\n",
      "SimulatedAnnealer: 1500'th iter, beta: 288344.7149229638, gamma: 0, objective_value: 4411.170119516368, is_valid: True\n",
      "SimulatedAnnealer: 2000'th iter, beta: 43884857.94143369, gamma: 0, objective_value: 4411.170119516368, is_valid: True\n",
      "SimulatedAnnealer: 2500'th iter, beta: 6679091576.394419, gamma: 0, objective_value: 4411.170119516368, is_valid: True\n",
      "1th challenge.\n",
      "SimulatedAnnealer: 500'th iter, beta: 12.44820102749488, gamma: 0, objective_value: 10047.349730217293, is_valid: False\n",
      "SimulatedAnnealer: 1000'th iter, beta: 1894.5640597712063, gamma: 0, objective_value: 3503.646612138038, is_valid: True\n",
      "SimulatedAnnealer: 1500'th iter, beta: 288344.7149229638, gamma: 0, objective_value: 3503.646612138038, is_valid: True\n",
      "SimulatedAnnealer: 2000'th iter, beta: 43884857.94143369, gamma: 0, objective_value: 3503.646612138038, is_valid: True\n",
      "SimulatedAnnealer: 2500'th iter, beta: 6679091576.394419, gamma: 0, objective_value: 3503.646612138038, is_valid: True\n",
      "2th challenge.\n",
      "SimulatedAnnealer: 500'th iter, beta: 12.700949931124253, gamma: 0, objective_value: 12035.012681151688, is_valid: False\n",
      "SimulatedAnnealer: 1000'th iter, beta: 1933.0313843191575, gamma: 0, objective_value: 4647.270061214787, is_valid: True\n",
      "SimulatedAnnealer: 1500'th iter, beta: 294199.280607044, gamma: 0, objective_value: 4647.270061214787, is_valid: True\n",
      "SimulatedAnnealer: 2000'th iter, beta: 44775898.31796112, gamma: 0, objective_value: 4647.270061214787, is_valid: True\n",
      "SimulatedAnnealer: 2500'th iter, beta: 6814704189.770859, gamma: 0, objective_value: 4647.270061214787, is_valid: True\n",
      "3th challenge.\n",
      "SimulatedAnnealer: 500'th iter, beta: 12.323719017219931, gamma: 0, objective_value: 5680.927060652926, is_valid: False\n",
      "SimulatedAnnealer: 1000'th iter, beta: 1875.6184191734942, gamma: 0, objective_value: 4861.980621181623, is_valid: True\n",
      "SimulatedAnnealer: 1500'th iter, beta: 285461.2677737342, gamma: 0, objective_value: 4861.980621181623, is_valid: True\n",
      "SimulatedAnnealer: 2000'th iter, beta: 43446009.36201935, gamma: 0, objective_value: 4861.980621181623, is_valid: True\n",
      "SimulatedAnnealer: 2500'th iter, beta: 6612300660.630474, gamma: 0, objective_value: 4861.980621181623, is_valid: True\n",
      "4th challenge.\n",
      "SimulatedAnnealer: 500'th iter, beta: 12.700949931124253, gamma: 0, objective_value: 5344.012274200362, is_valid: False\n",
      "SimulatedAnnealer: 1000'th iter, beta: 1933.0313843191575, gamma: 0, objective_value: 4530.815843853463, is_valid: True\n",
      "SimulatedAnnealer: 1500'th iter, beta: 294199.280607044, gamma: 0, objective_value: 4530.815843853463, is_valid: True\n",
      "SimulatedAnnealer: 2000'th iter, beta: 44775898.31796112, gamma: 0, objective_value: 4530.815843853463, is_valid: True\n",
      "SimulatedAnnealer: 2500'th iter, beta: 6814704189.770859, gamma: 0, objective_value: 4530.815843853463, is_valid: True\n",
      "5th challenge.\n",
      "SimulatedAnnealer: 500'th iter, beta: 12.9588306612838, gamma: 0, objective_value: 16515.88404144196, is_valid: False\n",
      "SimulatedAnnealer: 1000'th iter, beta: 1972.2797513714495, gamma: 0, objective_value: 5163.054190801562, is_valid: True\n",
      "SimulatedAnnealer: 1500'th iter, beta: 300172.71768905624, gamma: 0, objective_value: 5163.054190801562, is_valid: True\n",
      "SimulatedAnnealer: 2000'th iter, beta: 45685030.42338651, gamma: 0, objective_value: 5163.054190801562, is_valid: True\n",
      "SimulatedAnnealer: 2500'th iter, beta: 6953070288.512253, gamma: 0, objective_value: 5163.054190801562, is_valid: True\n",
      "6th challenge.\n",
      "SimulatedAnnealer: 500'th iter, beta: 11.957692238689482, gamma: 0, objective_value: 8610.621780697451, is_valid: False\n",
      "SimulatedAnnealer: 1000'th iter, beta: 1819.9106765056222, gamma: 0, objective_value: 4316.456437959991, is_valid: True\n",
      "SimulatedAnnealer: 1500'th iter, beta: 276982.78265958646, gamma: 0, objective_value: 4316.456437959991, is_valid: True\n",
      "SimulatedAnnealer: 2000'th iter, beta: 42155619.43795801, gamma: 0, objective_value: 4316.456437959991, is_valid: True\n",
      "SimulatedAnnealer: 2500'th iter, beta: 6415908718.709087, gamma: 0, objective_value: 4316.456437959991, is_valid: True\n",
      "7th challenge.\n",
      "SimulatedAnnealer: 500'th iter, beta: 12.323719017219931, gamma: 0, objective_value: 29520.358184574805, is_valid: False\n",
      "SimulatedAnnealer: 1000'th iter, beta: 1875.6184191734942, gamma: 0, objective_value: 5702.648776472148, is_valid: False\n",
      "SimulatedAnnealer: 1500'th iter, beta: 285461.2677737342, gamma: 0, objective_value: 4817.2383974635395, is_valid: True\n",
      "SimulatedAnnealer: 2000'th iter, beta: 43446009.36201935, gamma: 0, objective_value: 4817.2383974635395, is_valid: True\n",
      "SimulatedAnnealer: 2500'th iter, beta: 6612300660.630474, gamma: 0, objective_value: 4817.2383974635395, is_valid: True\n",
      "SimulatedAnnealer: 3000'th iter, beta: 1006364466348.3545, gamma: 0, objective_value: 4817.2383974635395, is_valid: True\n",
      "8th challenge.\n",
      "SimulatedAnnealer: 500'th iter, beta: 12.829242354670962, gamma: 0, objective_value: 10534.594231195199, is_valid: False\n",
      "SimulatedAnnealer: 1000'th iter, beta: 1952.556953857735, gamma: 0, objective_value: 5000.660913819336, is_valid: False\n",
      "SimulatedAnnealer: 1500'th iter, beta: 297170.99051216565, gamma: 0, objective_value: 4546.45129296873, is_valid: True\n",
      "SimulatedAnnealer: 2000'th iter, beta: 45228180.11915264, gamma: 0, objective_value: 4546.45129296873, is_valid: True\n",
      "SimulatedAnnealer: 2500'th iter, beta: 6883539585.6271305, gamma: 0, objective_value: 4546.45129296873, is_valid: True\n",
      "SimulatedAnnealer: 3000'th iter, beta: 1047645894706.9274, gamma: 0, objective_value: 4546.45129296873, is_valid: True\n",
      "9th challenge.\n",
      "SimulatedAnnealer: 500'th iter, beta: 12.700949931124253, gamma: 0, objective_value: 5245.36297797658, is_valid: False\n",
      "SimulatedAnnealer: 1000'th iter, beta: 1933.0313843191575, gamma: 0, objective_value: 4731.216994678096, is_valid: True\n",
      "SimulatedAnnealer: 1500'th iter, beta: 294199.280607044, gamma: 0, objective_value: 4731.216994678096, is_valid: True\n",
      "SimulatedAnnealer: 2000'th iter, beta: 44775898.31796112, gamma: 0, objective_value: 4731.216994678096, is_valid: True\n",
      "SimulatedAnnealer: 2500'th iter, beta: 6814704189.770859, gamma: 0, objective_value: 4731.216994678096, is_valid: True\n",
      "10th challenge.\n",
      "SimulatedAnnealer: 500'th iter, beta: 13.089727940690707, gamma: 0, objective_value: 11835.11147009278, is_valid: False\n",
      "SimulatedAnnealer: 1000'th iter, beta: 1992.2017690620703, gamma: 0, objective_value: 4465.910193371059, is_valid: False\n",
      "SimulatedAnnealer: 1500'th iter, beta: 303204.765342481, gamma: 0, objective_value: 4071.2172298713504, is_valid: True\n",
      "SimulatedAnnealer: 2000'th iter, beta: 46146495.37715809, gamma: 0, objective_value: 4071.2172298713504, is_valid: True\n",
      "SimulatedAnnealer: 2500'th iter, beta: 7023303321.729548, gamma: 0, objective_value: 4071.2172298713504, is_valid: True\n",
      "SimulatedAnnealer: 3000'th iter, beta: 1068917349971.3574, gamma: 0, objective_value: 4071.2172298713504, is_valid: True\n",
      "11th challenge.\n",
      "SimulatedAnnealer: 500'th iter, beta: 13.355502439231412, gamma: 0, objective_value: 22460.454500744094, is_valid: False\n",
      "SimulatedAnnealer: 1000'th iter, beta: 2032.6515346006229, gamma: 0, objective_value: 6983.607578863819, is_valid: False\n",
      "SimulatedAnnealer: 1500'th iter, beta: 309361.0502423028, gamma: 0, objective_value: 5125.648448669508, is_valid: True\n",
      "SimulatedAnnealer: 2000'th iter, beta: 47083456.15463533, gamma: 0, objective_value: 5125.648448669508, is_valid: True\n",
      "SimulatedAnnealer: 2500'th iter, beta: 7165904827.802825, gamma: 0, objective_value: 5125.648448669508, is_valid: True\n",
      "SimulatedAnnealer: 3000'th iter, beta: 1090620701939.9628, gamma: 0, objective_value: 5125.648448669508, is_valid: True\n",
      "12th challenge.\n",
      "SimulatedAnnealer: 500'th iter, beta: 12.323719017219931, gamma: 0, objective_value: 17086.188704166547, is_valid: False\n",
      "SimulatedAnnealer: 1000'th iter, beta: 1875.6184191734942, gamma: 0, objective_value: 4192.907014492837, is_valid: True\n",
      "SimulatedAnnealer: 1500'th iter, beta: 285461.2677737342, gamma: 0, objective_value: 4192.907014492837, is_valid: True\n",
      "SimulatedAnnealer: 2000'th iter, beta: 43446009.36201935, gamma: 0, objective_value: 4192.907014492837, is_valid: True\n",
      "SimulatedAnnealer: 2500'th iter, beta: 6612300660.630474, gamma: 0, objective_value: 4192.907014492837, is_valid: True\n",
      "13th challenge.\n",
      "SimulatedAnnealer: 500'th iter, beta: 12.44820102749488, gamma: 0, objective_value: 11203.817688786536, is_valid: False\n",
      "SimulatedAnnealer: 1000'th iter, beta: 1894.5640597712063, gamma: 0, objective_value: 4480.763332688504, is_valid: True\n",
      "SimulatedAnnealer: 1500'th iter, beta: 288344.7149229638, gamma: 0, objective_value: 4480.763332688504, is_valid: True\n",
      "SimulatedAnnealer: 2000'th iter, beta: 43884857.94143369, gamma: 0, objective_value: 4480.763332688504, is_valid: True\n",
      "SimulatedAnnealer: 2500'th iter, beta: 6679091576.394419, gamma: 0, objective_value: 4480.763332688504, is_valid: True\n",
      "14th challenge.\n",
      "SimulatedAnnealer: 500'th iter, beta: 12.829242354670962, gamma: 0, objective_value: 8186.05146729945, is_valid: False\n",
      "SimulatedAnnealer: 1000'th iter, beta: 1952.556953857735, gamma: 0, objective_value: 4213.213458868206, is_valid: True\n",
      "SimulatedAnnealer: 1500'th iter, beta: 297170.99051216565, gamma: 0, objective_value: 4213.213458868206, is_valid: True\n",
      "SimulatedAnnealer: 2000'th iter, beta: 45228180.11915264, gamma: 0, objective_value: 4213.213458868206, is_valid: True\n",
      "SimulatedAnnealer: 2500'th iter, beta: 6883539585.6271305, gamma: 0, objective_value: 4213.213458868206, is_valid: True\n",
      "15th challenge.\n",
      "SimulatedAnnealer: 500'th iter, beta: 12.9588306612838, gamma: 0, objective_value: 8771.6605087193, is_valid: False\n",
      "SimulatedAnnealer: 1000'th iter, beta: 1972.2797513714495, gamma: 0, objective_value: 3713.6298762605948, is_valid: True\n",
      "SimulatedAnnealer: 1500'th iter, beta: 300172.71768905624, gamma: 0, objective_value: 3713.6298762605948, is_valid: True\n",
      "SimulatedAnnealer: 2000'th iter, beta: 45685030.42338651, gamma: 0, objective_value: 3713.6298762605948, is_valid: True\n",
      "SimulatedAnnealer: 2500'th iter, beta: 6953070288.512253, gamma: 0, objective_value: 3713.6298762605948, is_valid: True\n",
      "annealing time: 14.055742979049683\n",
      "annealer: SimulatedAnnealer(model=ClassicalIsingModel(j=defaultdic..., h=[[  509.37..., c=-15542.20376909275, beta=64738617241.9359, state=QUBOState(sigma=np.array((14, 14))), ), beta_factor=0.99, freeze_limit=2000, update_limit=10)\n",
      "iterations(average): 2815.75\n",
      "objective: 3503.646612138038\n",
      "state: [[0 0 0 0 0 0 0 0 0 0 1 0 0 0]\n",
      " [0 0 0 0 0 0 1 0 0 0 0 0 0 0]\n",
      " [0 0 0 0 0 0 0 0 0 0 0 0 1 0]\n",
      " [0 0 0 0 0 0 0 0 0 0 0 0 0 1]\n",
      " [1 0 0 0 0 0 0 0 0 0 0 0 0 0]\n",
      " [0 0 0 0 0 0 0 0 1 0 0 0 0 0]\n",
      " [0 0 0 1 0 0 0 0 0 0 0 0 0 0]\n",
      " [0 0 0 0 0 0 0 0 0 1 0 0 0 0]\n",
      " [0 0 1 0 0 0 0 0 0 0 0 0 0 0]\n",
      " [0 0 0 0 0 1 0 0 0 0 0 0 0 0]\n",
      " [0 0 0 0 1 0 0 0 0 0 0 0 0 0]\n",
      " [0 1 0 0 0 0 0 0 0 0 0 0 0 0]\n",
      " [0 0 0 0 0 0 0 1 0 0 0 0 0 0]\n",
      " [0 0 0 0 0 0 0 0 0 0 0 1 0 0]]\n"
     ]
    }
   ],
   "source": [
    "c_history = []\n",
    "min_energy = float('inf')\n",
    "best_annealer = None\n",
    "iter = 0\n",
    "start = time.time()\n",
    "for i in range(16):\n",
    "    print('{}th challenge.'.format(i))\n",
    "    callback = Callback()\n",
    "    c_model = ClassicalIsingModel(j, h, c, neighbor_size=1, state_shape=h.shape, beta=0.1)\n",
    "    c_annealer = SimulatedAnnealer(c_model, update_limit=10, freeze_limit=2000)\n",
    "    c_annealer.anneal(iter_callback=callback)\n",
    "    c_history.append(callback.history)\n",
    "    energy = c_model.objective_value()\n",
    "    iter += c_annealer.iter_count\n",
    "    if energy < min_energy:\n",
    "        min_energy = energy\n",
    "        best_annealer = c_annealer\n",
    "\n",
    "best_model = best_annealer.model\n",
    "print('annealing time: {}'.format(time.time() - start))\n",
    "print('annealer: {}'.format(best_annealer))\n",
    "print('iterations(average): {}'.format(iter/16))\n",
    "print('objective: {}'.format(best_model.objective_value()))\n",
    "print('state: {}'.format(best_model.state.to_array()))"
   ]
  },
  {
   "cell_type": "code",
   "execution_count": 7,
   "metadata": {
    "collapsed": false,
    "scrolled": false
   },
   "outputs": [
    {
     "name": "stdout",
     "output_type": "stream",
     "text": [
      "QuantumAnnealer: 500'th iter, beta: 8.352463828623913, gamma: 2.175813344196523, objective_value: 4701.035581137505, is_valid: False\n",
      "QuantumAnnealer: 1000'th iter, beta: 17.462926957343676, gamma: 1.946899031323937, objective_value: 4001.5829667580056, is_valid: True\n",
      "QuantumAnnealer: 1500'th iter, beta: 17.462926957343676, gamma: 1.946899031323937, objective_value: 4001.5829667580056, is_valid: True\n",
      "QuantumAnnealer: 2000'th iter, beta: 17.462926957343676, gamma: 1.946899031323937, objective_value: 4001.5829667580056, is_valid: True\n",
      "QuantumAnnealer: 2500'th iter, beta: 17.462926957343676, gamma: 1.946899031323937, objective_value: 4001.5829667580056, is_valid: True\n",
      "QuantumAnnealer: 3000'th iter, beta: 17.462926957343676, gamma: 1.946899031323937, objective_value: 4001.5829667580056, is_valid: True\n",
      "annealing time: 35.46546506881714\n",
      "annealer: QuantumAnnealer(model=QuantumIsingModel(j=defaultdic..., h=[[  509.37..., c=-15542.20376909275, state=QUBOState(sigma=np.array((14, 14)), classical_state_class=<class 'anneal.models.classicalisingmodel.ClassicalIsingModel.QUBOState'>), beta=17.462926957343676, gamma=1.946899031323937, neighbor_size=1), beta_factor=0.9, gamma_factor=0.99, freeze_limit=2000, update_limit=10)\n",
      "iterations: 3352\n",
      "objective: 4001.5829667580056\n",
      "best state: [[0 0 0 0 0 0 0 0 0 0 1 0 0 0]\n",
      " [0 0 1 0 0 0 0 0 0 0 0 0 0 0]\n",
      " [0 0 0 0 0 0 0 0 0 0 0 0 0 1]\n",
      " [1 0 0 0 0 0 0 0 0 0 0 0 0 0]\n",
      " [0 0 0 0 0 1 0 0 0 0 0 0 0 0]\n",
      " [0 0 0 0 0 0 0 0 1 0 0 0 0 0]\n",
      " [0 0 0 1 0 0 0 0 0 0 0 0 0 0]\n",
      " [0 0 0 0 0 0 0 0 0 0 0 1 0 0]\n",
      " [0 0 0 0 1 0 0 0 0 0 0 0 0 0]\n",
      " [0 0 0 0 0 0 0 0 0 0 0 0 1 0]\n",
      " [0 0 0 0 0 0 1 0 0 0 0 0 0 0]\n",
      " [0 1 0 0 0 0 0 0 0 0 0 0 0 0]\n",
      " [0 0 0 0 0 0 0 1 0 0 0 0 0 0]\n",
      " [0 0 0 0 0 0 0 0 0 1 0 0 0 0]]\n",
      "energy of observed: 4001.5829667580074\n"
     ]
    }
   ],
   "source": [
    "start = time.time()\n",
    "callback = Callback()\n",
    "q_model = QuantumIsingModel(j, h, c, neighbor_size=1, state_shape=h.shape, beta=0.1, gamma=10, n_trotter=16)\n",
    "q_annealer = QuantumAnnealer(q_model, beta_factor=0.9, update_limit=10, freeze_limit=2000)\n",
    "q_annealer.anneal(iter_callback=callback)\n",
    "observed = q_model.observe_best()\n",
    "print('annealing time: {}'.format(time.time() - start))\n",
    "print('annealer: {}'.format(q_annealer))\n",
    "print('iterations: {}'.format(q_annealer.iter_count))\n",
    "print('objective: {}'.format(q_model.objective_value()))\n",
    "print('best state: {}'.format(observed.to_array()))\n",
    "print('energy of observed: {}'.format(c_model.energy(observed)))"
   ]
  },
  {
   "cell_type": "code",
   "execution_count": 8,
   "metadata": {
    "collapsed": false
   },
   "outputs": [],
   "source": [
    "def plot_route(state, positions):\n",
    "    route = np.array(\n",
    "        [positions[-1]]\n",
    "        + [positions[np.argmax(row)] for row in state.to_array()]\n",
    "        + [positions[-1]]\n",
    "    )\n",
    "    plt.plot(route[:, 0], route[:, 1], '-o')"
   ]
  },
  {
   "cell_type": "code",
   "execution_count": 9,
   "metadata": {
    "collapsed": false
   },
   "outputs": [
    {
     "name": "stdout",
     "output_type": "stream",
     "text": [
      "Simulated Annealing\n"
     ]
    },
    {
     "data": {
      "image/png": "[encoded data removed]",
      "text/plain": [
       "<matplotlib.figure.Figure at 0x109f4af98>"
      ]
     },
     "metadata": {},
     "output_type": "display_data"
    },
    {
     "name": "stdout",
     "output_type": "stream",
     "text": [
      "Quantum Annealing\n"
     ]
    },
    {
     "data": {
      "image/png": "[encoded data removed]",
      "text/plain": [
       "<matplotlib.figure.Figure at 0x10a1cf0f0>"
      ]
     },
     "metadata": {},
     "output_type": "display_data"
    }
   ],
   "source": [
    "print('Simulated Annealing')\n",
    "plot_route(best_model.state, POSITIONS)\n",
    "plt.show()\n",
    "print('Quantum Annealing')\n",
    "plot_route(observed, POSITIONS)\n",
    "plt.show()"
   ]
  },
  {
   "cell_type": "code",
   "execution_count": null,
   "metadata": {
    "collapsed": true
   },
   "outputs": [],
   "source": []
  },
  {
   "cell_type": "code",
   "execution_count": null,
   "metadata": {
    "collapsed": true
   },
   "outputs": [],
   "source": []
  }
 ],
 "metadata": {
  "kernelspec": {
   "display_name": "Python 3",
   "language": "python",
   "name": "python3"
  },
  "language_info": {
   "codemirror_mode": {
    "name": "ipython",
    "version": 3
   },
   "file_extension": ".py",
   "mimetype": "text/x-python",
   "name": "python",
   "nbconvert_exporter": "python",
   "pygments_lexer": "ipython3",
   "version": "3.5.1"
  }
 },
 "nbformat": 4,
 "nbformat_minor": 2
}
