{
 "cells": [
  {
   "cell_type": "markdown",
   "metadata": {},
   "source": [
    "# TSP (巡回セールスマン問題)\n",
    "\n",
    "ここでは、[[Andrew Lucas, 2013]](https://arxiv.org/abs/1302.5843) に沿って TSP をイジング模型で定式化し、シミュレーティッドアニーリングと量子アニーリングで解いてみます。"
   ]
  },
  {
   "cell_type": "code",
   "execution_count": 1,
   "metadata": {
    "collapsed": false
   },
   "outputs": [],
   "source": [
    "%matplotlib inline\n",
    "\n",
    "import collections\n",
    "import time\n",
    "\n",
    "import matplotlib.pyplot as plt\n",
    "import numpy as np\n",
    "\n",
    "import anneal\n",
    "from anneal.models import ClassicalIsingModel, QuantumIsingModel\n",
    "from anneal.annealers import SimulatedAnnealer, QuantumAnnealer"
   ]
  },
  {
   "cell_type": "markdown",
   "metadata": {},
   "source": [
    "まずは、距離関数と各種重みを構築する関数を定義します。"
   ]
  },
  {
   "cell_type": "code",
   "execution_count": 2,
   "metadata": {
    "collapsed": false
   },
   "outputs": [],
   "source": [
    "POSITIONS = np.array((\n",
    "    (24050.0000, 123783),\n",
    "    (24216.6667, 123933),\n",
    "    (24233.3333, 123950),\n",
    "    (24233.3333, 124016),\n",
    "    (24250.0000, 123866),\n",
    "    (24300.0000, 123683),\n",
    "    (24316.6667, 123900),\n",
    "))"
   ]
  },
  {
   "cell_type": "code",
   "execution_count": 3,
   "metadata": {
    "collapsed": true
   },
   "outputs": [],
   "source": [
    "def dist(a, b):\n",
    "    a = np.array(a)\n",
    "    b = np.array(b)\n",
    "    return np.sqrt(((a - b)**2).sum())\n",
    "\n",
    "def build_weights(positions, coeff=1):\n",
    "    n_cities = len(positions)\n",
    "\n",
    "    j = collections.defaultdict(int)\n",
    "    max_dist = 0\n",
    "    for t in range(n_cities):\n",
    "        for a in range(n_cities):\n",
    "            for b in range(n_cities):\n",
    "                d = dist(positions[a], positions[b])\n",
    "                max_dist = d if max_dist < d else max_dist\n",
    "                j[t, a, (t + 1)%n_cities, b] = -d\n",
    "\n",
    "    A = max_dist * coeff\n",
    "    for t in range(n_cities):\n",
    "        for a in range(n_cities):\n",
    "            for b in range(n_cities):\n",
    "                if a != b:\n",
    "                    j[t, a, t, b] -= 2*A\n",
    "\n",
    "    for a in range(n_cities):\n",
    "        for t1 in range(n_cities):\n",
    "            for t2 in range(n_cities):\n",
    "                if t1 != t2:\n",
    "                    j[t1, a, t2, a] -= 2*A\n",
    "\n",
    "    h = np.zeros((n_cities, n_cities))\n",
    "    for t in range(n_cities):\n",
    "        for a in range(n_cities):\n",
    "            h[t, a] += 2*A\n",
    "\n",
    "    c = -2*A*n_cities\n",
    "    return j, h, c"
   ]
  },
  {
   "cell_type": "markdown",
   "metadata": {},
   "source": [
    "コールバック関数を定義"
   ]
  },
  {
   "cell_type": "code",
   "execution_count": 4,
   "metadata": {
    "collapsed": true
   },
   "outputs": [],
   "source": [
    "class Callback(object):\n",
    "    def __init__(self):\n",
    "        self.history = []\n",
    "        \n",
    "    def __call__(self, annealer, state_is_updated, model_is_updated):\n",
    "        objective_value = annealer.model.objective_value()\n",
    "        self.history.append(objective_value)\n",
    "        if annealer.iter_count % 500 == 0:\n",
    "            if isinstance(annealer.model, QuantumIsingModel):\n",
    "                state = annealer.model.observe_best()\n",
    "            else:\n",
    "                state = annealer.model.state\n",
    "            print(\"{}: {}'th iter, beta: {}, gamma: {}, objective_value: {}, is_valid: {}\".format(\n",
    "                annealer.__class__.__name__,\n",
    "                annealer.iter_count,\n",
    "                annealer.model.beta,\n",
    "                annealer.model.__dict__.get('gamma', 0),\n",
    "                objective_value,\n",
    "                self.check_constraints(state)\n",
    "            ))\n",
    "            \n",
    "    def check_constraints(self, state):\n",
    "        return (\n",
    "            (state.to_array().sum(axis=1) == 1).all()\n",
    "            and (state.to_array().sum(axis=0) == 1).all()\n",
    "        )\n"
   ]
  },
  {
   "cell_type": "code",
   "execution_count": 5,
   "metadata": {
    "collapsed": false
   },
   "outputs": [],
   "source": [
    "j, h, c = build_weights(POSITIONS)"
   ]
  },
  {
   "cell_type": "code",
   "execution_count": 6,
   "metadata": {
    "collapsed": false,
    "scrolled": false
   },
   "outputs": [
    {
     "name": "stdout",
     "output_type": "stream",
     "text": [
      "0th challenge.\n",
      "SimulatedAnnealer: 500'th iter, beta: 1.0515357128133505, gamma: 0, objective_value: 1246.8172458635272, is_valid: True\n",
      "SimulatedAnnealer: 1000'th iter, beta: 1.105727355321881, gamma: 0, objective_value: 1246.8172458635272, is_valid: True\n",
      "1th challenge.\n",
      "SimulatedAnnealer: 500'th iter, beta: 1.0515357128133505, gamma: 0, objective_value: 1264.0005267119795, is_valid: True\n",
      "SimulatedAnnealer: 1000'th iter, beta: 1.105727355321881, gamma: 0, objective_value: 1264.0005267119795, is_valid: True\n",
      "2th challenge.\n",
      "SimulatedAnnealer: 500'th iter, beta: 1.0515357128133505, gamma: 0, objective_value: 1217.9205066532322, is_valid: True\n",
      "SimulatedAnnealer: 1000'th iter, beta: 1.105727355321881, gamma: 0, objective_value: 1217.9205066532322, is_valid: True\n",
      "3th challenge.\n",
      "SimulatedAnnealer: 500'th iter, beta: 1.0515357128133505, gamma: 0, objective_value: 1379.2260224997017, is_valid: True\n",
      "SimulatedAnnealer: 1000'th iter, beta: 1.105727355321881, gamma: 0, objective_value: 1379.2260224997017, is_valid: True\n",
      "4th challenge.\n",
      "SimulatedAnnealer: 500'th iter, beta: 1.0515357128133505, gamma: 0, objective_value: 1265.742588041363, is_valid: True\n",
      "SimulatedAnnealer: 1000'th iter, beta: 1.105727355321881, gamma: 0, objective_value: 1265.742588041363, is_valid: True\n",
      "5th challenge.\n",
      "SimulatedAnnealer: 500'th iter, beta: 1.0515357128133505, gamma: 0, objective_value: 1368.6909442017886, is_valid: True\n",
      "SimulatedAnnealer: 1000'th iter, beta: 1.105727355321881, gamma: 0, objective_value: 1368.6909442017886, is_valid: True\n",
      "6th challenge.\n",
      "SimulatedAnnealer: 500'th iter, beta: 1.0515357128133505, gamma: 0, objective_value: 1264.0005267119805, is_valid: True\n",
      "SimulatedAnnealer: 1000'th iter, beta: 1.105727355321881, gamma: 0, objective_value: 1264.0005267119805, is_valid: True\n",
      "7th challenge.\n",
      "SimulatedAnnealer: 500'th iter, beta: 1.0515357128133505, gamma: 0, objective_value: 1332.7721950998239, is_valid: True\n",
      "SimulatedAnnealer: 1000'th iter, beta: 1.105727355321881, gamma: 0, objective_value: 1332.7721950998239, is_valid: True\n",
      "8th challenge.\n",
      "SimulatedAnnealer: 500'th iter, beta: 1.0515357128133505, gamma: 0, objective_value: 1100.0639883139665, is_valid: True\n",
      "SimulatedAnnealer: 1000'th iter, beta: 1.105727355321881, gamma: 0, objective_value: 1100.0639883139665, is_valid: True\n",
      "9th challenge.\n",
      "SimulatedAnnealer: 500'th iter, beta: 1.0515357128133505, gamma: 0, objective_value: 1382.508356884211, is_valid: True\n",
      "SimulatedAnnealer: 1000'th iter, beta: 1.105727355321881, gamma: 0, objective_value: 1382.508356884211, is_valid: True\n",
      "10th challenge.\n",
      "SimulatedAnnealer: 500'th iter, beta: 1.0515357128133505, gamma: 0, objective_value: 1198.1859127519365, is_valid: True\n",
      "SimulatedAnnealer: 1000'th iter, beta: 1.105727355321881, gamma: 0, objective_value: 1198.1859127519365, is_valid: True\n",
      "11th challenge.\n",
      "SimulatedAnnealer: 500'th iter, beta: 1.0515357128133505, gamma: 0, objective_value: 1247.3254871189392, is_valid: True\n",
      "SimulatedAnnealer: 1000'th iter, beta: 1.105727355321881, gamma: 0, objective_value: 1247.3254871189392, is_valid: True\n",
      "12th challenge.\n",
      "SimulatedAnnealer: 500'th iter, beta: 1.0515357128133505, gamma: 0, objective_value: 1095.9264044396978, is_valid: True\n",
      "SimulatedAnnealer: 1000'th iter, beta: 1.105727355321881, gamma: 0, objective_value: 1095.9264044396978, is_valid: True\n",
      "13th challenge.\n",
      "SimulatedAnnealer: 500'th iter, beta: 1.0515357128133505, gamma: 0, objective_value: 1331.748436597576, is_valid: True\n",
      "SimulatedAnnealer: 1000'th iter, beta: 1.105727355321881, gamma: 0, objective_value: 1331.748436597576, is_valid: True\n",
      "14th challenge.\n",
      "SimulatedAnnealer: 500'th iter, beta: 1.0515357128133505, gamma: 0, objective_value: 1339.0213785779051, is_valid: True\n",
      "SimulatedAnnealer: 1000'th iter, beta: 1.105727355321881, gamma: 0, objective_value: 1339.0213785779051, is_valid: True\n",
      "15th challenge.\n",
      "SimulatedAnnealer: 500'th iter, beta: 1.0515357128133505, gamma: 0, objective_value: 1145.9457303978706, is_valid: True\n",
      "SimulatedAnnealer: 1000'th iter, beta: 1.105727355321881, gamma: 0, objective_value: 1145.9457303978706, is_valid: True\n",
      "annealing time: 3.583415985107422\n",
      "annealer: SimulatedAnnealer(model=ClassicalIsingModel(j=defaultdic..., h=[[ 679.215..., c=-4754.509015894542, beta=1.1281780995019701, state=QUBOState(sigma=np.array((7, 7))), ), beta_factor=0.99, freeze_limit=1000, \n",
      "iterations(average): 1147.8125\n",
      "objective: 1095.9264044396978\n",
      "state: [[0 1 0 0 0 0 0]\n",
      " [0 0 0 0 1 0 0]\n",
      " [0 0 0 0 0 1 0]\n",
      " [1 0 0 0 0 0 0]\n",
      " [0 0 1 0 0 0 0]\n",
      " [0 0 0 1 0 0 0]\n",
      " [0 0 0 0 0 0 1]]\n"
     ]
    }
   ],
   "source": [
    "c_history = []\n",
    "min_energy = float('inf')\n",
    "best_annealer = None\n",
    "iter = 0\n",
    "start = time.time()\n",
    "for i in range(16):\n",
    "    print('{}th challenge.'.format(i))\n",
    "    callback = Callback()\n",
    "    c_model = ClassicalIsingModel(j, h, c,  state_shape=h.shape, beta=1)\n",
    "    c_annealer = SimulatedAnnealer(c_model)\n",
    "    c_annealer.anneal(iter_callback=callback)\n",
    "    c_history.append(callback.history)\n",
    "    energy = c_model.objective_value()\n",
    "    iter += c_annealer.iter_count\n",
    "    if energy < min_energy:\n",
    "        min_energy = energy\n",
    "        best_annealer = c_annealer\n",
    "\n",
    "best_model = best_annealer.model\n",
    "print('annealing time: {}'.format(time.time() - start))\n",
    "print('annealer: {}'.format(best_annealer))\n",
    "print('iterations(average): {}'.format(iter/16))\n",
    "print('objective: {}'.format(best_model.objective_value()))\n",
    "print('state: {}'.format(best_model.state.to_array()))"
   ]
  },
  {
   "cell_type": "code",
   "execution_count": 7,
   "metadata": {
    "collapsed": false,
    "scrolled": false
   },
   "outputs": [
    {
     "name": "stdout",
     "output_type": "stream",
     "text": [
      "QuantumAnnealer: 500'th iter, beta: 1000.0, gamma: 0.36787944117144233, objective_value: 990.666361143325, is_valid: True\n",
      "QuantumAnnealer: 1000'th iter, beta: 1000.0, gamma: 0.36787944117144233, objective_value: 990.666361143325, is_valid: True\n",
      "annealing time: 9.596693992614746\n",
      "annealer: QuantumAnnealer(model=QuantumIsingModel(j=defaultdic..., h=[[ 679.215..., c=-4754.509015894542, state=QUBOState(sigma=np.array((7, 7)), classical_state_class=<class 'anneal.models.classicalisingmodel.ClassicalIsingModel.QUBOState'>), beta=1000.0, gamma=0.35656746362980823, neighbor_size=1), beta_factor=1.0, gamma_factor=0.99, freeze_limit=1000, \n",
      "iterations: 1307\n",
      "objective: 990.666361143325\n",
      "best state: [[0 0 0 0 0 1 0]\n",
      " [1 0 0 0 0 0 0]\n",
      " [0 1 0 0 0 0 0]\n",
      " [0 0 1 0 0 0 0]\n",
      " [0 0 0 1 0 0 0]\n",
      " [0 0 0 0 0 0 1]\n",
      " [0 0 0 0 1 0 0]]\n",
      "energy of observed: 990.666361143325\n"
     ]
    }
   ],
   "source": [
    "start = time.time()\n",
    "callback = Callback()\n",
    "q_model = QuantumIsingModel(j, h, c, state_shape=h.shape, n_trotter=16)\n",
    "q_annealer = QuantumAnnealer(q_model)\n",
    "q_annealer.anneal(iter_callback=callback)\n",
    "observed = q_model.observe_best()\n",
    "print('annealing time: {}'.format(time.time() - start))\n",
    "print('annealer: {}'.format(q_annealer))\n",
    "print('iterations: {}'.format(q_annealer.iter_count))\n",
    "print('objective: {}'.format(q_model.objective_value()))\n",
    "print('best state: {}'.format(observed.to_array()))\n",
    "print('energy of observed: {}'.format(c_model.energy(observed)))"
   ]
  },
  {
   "cell_type": "code",
   "execution_count": 8,
   "metadata": {
    "collapsed": false
   },
   "outputs": [],
   "source": [
    "def plot_route(state, positions):\n",
    "    route = [positions[np.argmax(row)] for row in state.to_array()]\n",
    "    route.append(route[0])\n",
    "    route = np.array(route)\n",
    "    \n",
    "    d = 0\n",
    "    for i in range(1, len(route)):\n",
    "        d += dist(route[i - 1], route[i])\n",
    "    print(d)\n",
    "    plt.plot(route[:, 0], route[:, 1], '-o')"
   ]
  },
  {
   "cell_type": "code",
   "execution_count": 9,
   "metadata": {
    "collapsed": false
   },
   "outputs": [
    {
     "name": "stdout",
     "output_type": "stream",
     "text": [
      "Simulated Annealing\n",
      "1095.92640444\n"
     ]
    },
    {
     "data": {
      "image/png": "[encoded data removed]",
      "text/plain": [
       "<matplotlib.figure.Figure at 0x1087f3400>"
      ]
     },
     "metadata": {},
     "output_type": "display_data"
    },
    {
     "name": "stdout",
     "output_type": "stream",
     "text": [
      "Quantum Annealing\n",
      "990.666361143\n"
     ]
    },
    {
     "data": {
      "image/png": "[encoded data removed]",
      "text/plain": [
       "<matplotlib.figure.Figure at 0x1087c6518>"
      ]
     },
     "metadata": {},
     "output_type": "display_data"
    }
   ],
   "source": [
    "print('Simulated Annealing')\n",
    "plot_route(best_model.state, POSITIONS)\n",
    "plt.show()\n",
    "print('Quantum Annealing')\n",
    "plot_route(observed, POSITIONS)\n",
    "plt.show()"
   ]
  },
  {
   "cell_type": "code",
   "execution_count": null,
   "metadata": {
    "collapsed": true
   },
   "outputs": [],
   "source": []
  },
  {
   "cell_type": "code",
   "execution_count": null,
   "metadata": {
    "collapsed": true
   },
   "outputs": [],
   "source": []
  }
 ],
 "metadata": {
  "kernelspec": {
   "display_name": "Python 3",
   "language": "python",
   "name": "python3"
  },
  "language_info": {
   "codemirror_mode": {
    "name": "ipython",
    "version": 3
   },
   "file_extension": ".py",
   "mimetype": "text/x-python",
   "name": "python",
   "nbconvert_exporter": "python",
   "pygments_lexer": "ipython3",
   "version": "3.5.1"
  }
 },
 "nbformat": 4,
 "nbformat_minor": 2
}
