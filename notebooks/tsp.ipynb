{
 "cells": [
  {
   "cell_type": "markdown",
   "metadata": {},
   "source": [
    "# TSP (巡回セールスマン問題)\n",
    "\n",
    "ここでは、[[Andrew Lucas, 2013]](https://arxiv.org/abs/1302.5843) に沿って TSP をイジング模型で定式化し、シミュレーティッドアニーリングと量子アニーリングで解いてみます。"
   ]
  },
  {
   "cell_type": "code",
   "execution_count": 1,
   "metadata": {
    "collapsed": false
   },
   "outputs": [],
   "source": [
    "%matplotlib inline\n",
    "\n",
    "import collections\n",
    "import time\n",
    "\n",
    "import matplotlib.pyplot as plt\n",
    "import numpy as np\n",
    "\n",
    "import anneal\n",
    "from anneal.models import ClassicalIsingModel, QuantumIsingModel\n",
    "from anneal.annealers import SimulatedAnnealer, QuantumAnnealer"
   ]
  },
  {
   "cell_type": "markdown",
   "metadata": {},
   "source": [
    "まずは、距離関数と各種重みを構築する関数を定義します。"
   ]
  },
  {
   "cell_type": "code",
   "execution_count": 2,
   "metadata": {
    "collapsed": false
   },
   "outputs": [],
   "source": [
    "POSITIONS = np.array((\n",
    "    (24050.0000, 123783),\n",
    "    (24216.6667, 123933),\n",
    "    (24233.3333, 123950),\n",
    "    (24233.3333, 124016),\n",
    "    (24250.0000, 123866),\n",
    "    (24300.0000, 123683),\n",
    "    (24316.6667, 123900),\n",
    "    (24316.6667, 124083),\n",
    "    (24333.3333, 123733),\n",
    "))"
   ]
  },
  {
   "cell_type": "code",
   "execution_count": 3,
   "metadata": {
    "collapsed": true
   },
   "outputs": [],
   "source": [
    "def dist(a, b):\n",
    "    a = np.array(a)\n",
    "    b = np.array(b)\n",
    "    return np.sqrt(((a - b)**2).sum())\n",
    "\n",
    "def build_weights(positions, coeff=1):\n",
    "    n_cities = len(positions)\n",
    "\n",
    "    j = collections.defaultdict(int)\n",
    "    max_dist = 0\n",
    "    for t in range(n_cities):\n",
    "        for a in range(n_cities):\n",
    "            for b in range(n_cities):\n",
    "                d = dist(positions[a], positions[b])\n",
    "                max_dist = d if max_dist < d else max_dist\n",
    "                j[t, a, (t + 1)%n_cities, b] = -d\n",
    "\n",
    "    A = max_dist * coeff\n",
    "    for t in range(n_cities):\n",
    "        for a in range(n_cities):\n",
    "            for b in range(n_cities):\n",
    "                if a != b:\n",
    "                    j[t, a, t, b] -= 2*A\n",
    "\n",
    "    for a in range(n_cities):\n",
    "        for t1 in range(n_cities):\n",
    "            for t2 in range(n_cities):\n",
    "                if t1 != t2:\n",
    "                    j[t1, a, t2, a] -= 2*A\n",
    "\n",
    "    h = np.zeros((n_cities, n_cities))\n",
    "    for t in range(n_cities):\n",
    "        for a in range(n_cities):\n",
    "            h[t, a] += 2*A\n",
    "\n",
    "    c = -2*A*n_cities\n",
    "    return j, h, c"
   ]
  },
  {
   "cell_type": "markdown",
   "metadata": {},
   "source": [
    "進捗の可視化のため、コールバック関数を定義しておきます。"
   ]
  },
  {
   "cell_type": "code",
   "execution_count": 4,
   "metadata": {
    "collapsed": true
   },
   "outputs": [],
   "source": [
    "class Callback(object):\n",
    "    def __init__(self):\n",
    "        self.history = []\n",
    "        \n",
    "    def __call__(self, annealer, state_is_updated, model_is_updated):\n",
    "        objective_value = annealer.model.objective_value()\n",
    "        self.history.append(objective_value)\n",
    "        if annealer.iter_count % 1 == 0:\n",
    "            if isinstance(annealer.model, QuantumIsingModel):\n",
    "                state = annealer.model.observe_best()\n",
    "            else:\n",
    "                state = annealer.model.state\n",
    "            print(\"{}: {}'th iter, beta: {}, gamma: {}, objective_value: {}, is_valid: {}\".format(\n",
    "                annealer.__class__.__name__,\n",
    "                annealer.iter_count,\n",
    "                annealer.model.beta,\n",
    "                annealer.model.__dict__.get('gamma', 0),\n",
    "                objective_value,\n",
    "                self.check_constraints(state)\n",
    "            ))\n",
    "            \n",
    "    def check_constraints(self, state):\n",
    "        return (\n",
    "            (state.to_array().sum(axis=1) == 1).all()\n",
    "            and (state.to_array().sum(axis=0) == 1).all()\n",
    "        )\n"
   ]
  },
  {
   "cell_type": "code",
   "execution_count": 5,
   "metadata": {
    "collapsed": false
   },
   "outputs": [],
   "source": [
    "j, h, c = build_weights(POSITIONS)"
   ]
  },
  {
   "cell_type": "markdown",
   "metadata": {},
   "source": [
    "## シミュレーティッドアニーリングの実施\n",
    "シミュレーティッドアニーリングを実施します。<br>\n",
    "初期値をランダムに変えて16回繰り返し、最適なものを採用します。"
   ]
  },
  {
   "cell_type": "code",
   "execution_count": 6,
   "metadata": {
    "collapsed": false,
    "scrolled": false
   },
   "outputs": [
    {
     "name": "stdout",
     "output_type": "stream",
     "text": [
      "0th challenge.\n",
      "SimulatedAnnealer: 1'th iter, beta: 0.2, gamma: 0, objective_value: 2512.8397443882095, is_valid: False\n",
      "SimulatedAnnealer: 2'th iter, beta: 0.4, gamma: 0, objective_value: 1605.0628322724588, is_valid: True\n",
      "SimulatedAnnealer: 3'th iter, beta: 0.8, gamma: 0, objective_value: 1605.0628322724588, is_valid: True\n",
      "SimulatedAnnealer: 4'th iter, beta: 1.6, gamma: 0, objective_value: 1605.0628322724588, is_valid: True\n",
      "SimulatedAnnealer: 5'th iter, beta: 3.2, gamma: 0, objective_value: 1605.0628322724588, is_valid: True\n",
      "SimulatedAnnealer: 6'th iter, beta: 6.4, gamma: 0, objective_value: 1605.0628322724588, is_valid: True\n",
      "SimulatedAnnealer: 7'th iter, beta: 12.8, gamma: 0, objective_value: 1605.0628322724588, is_valid: True\n",
      "SimulatedAnnealer: 8'th iter, beta: 25.6, gamma: 0, objective_value: 1605.0628322724588, is_valid: True\n",
      "SimulatedAnnealer: 9'th iter, beta: 51.2, gamma: 0, objective_value: 1605.0628322724588, is_valid: True\n",
      "SimulatedAnnealer: 10'th iter, beta: 102.4, gamma: 0, objective_value: 1605.0628322724588, is_valid: True\n",
      "1th challenge.\n",
      "SimulatedAnnealer: 1'th iter, beta: 0.2, gamma: 0, objective_value: 2905.102520699801, is_valid: False\n",
      "SimulatedAnnealer: 2'th iter, beta: 0.4, gamma: 0, objective_value: 1872.526836200428, is_valid: True\n",
      "SimulatedAnnealer: 3'th iter, beta: 0.8, gamma: 0, objective_value: 1872.526836200428, is_valid: True\n",
      "SimulatedAnnealer: 4'th iter, beta: 1.6, gamma: 0, objective_value: 1872.526836200428, is_valid: True\n",
      "SimulatedAnnealer: 5'th iter, beta: 3.2, gamma: 0, objective_value: 1872.526836200428, is_valid: True\n",
      "SimulatedAnnealer: 6'th iter, beta: 6.4, gamma: 0, objective_value: 1872.526836200428, is_valid: True\n",
      "SimulatedAnnealer: 7'th iter, beta: 12.8, gamma: 0, objective_value: 1872.526836200428, is_valid: True\n",
      "SimulatedAnnealer: 8'th iter, beta: 25.6, gamma: 0, objective_value: 1872.526836200428, is_valid: True\n",
      "SimulatedAnnealer: 9'th iter, beta: 51.2, gamma: 0, objective_value: 1872.526836200428, is_valid: True\n",
      "SimulatedAnnealer: 10'th iter, beta: 102.4, gamma: 0, objective_value: 1872.526836200428, is_valid: True\n",
      "2th challenge.\n",
      "SimulatedAnnealer: 1'th iter, beta: 0.2, gamma: 0, objective_value: 2339.0199117017382, is_valid: False\n",
      "SimulatedAnnealer: 2'th iter, beta: 0.4, gamma: 0, objective_value: 1586.6041117749483, is_valid: True\n",
      "SimulatedAnnealer: 3'th iter, beta: 0.8, gamma: 0, objective_value: 1586.6041117749483, is_valid: True\n",
      "SimulatedAnnealer: 4'th iter, beta: 1.6, gamma: 0, objective_value: 1586.6041117749483, is_valid: True\n",
      "SimulatedAnnealer: 5'th iter, beta: 3.2, gamma: 0, objective_value: 1586.6041117749483, is_valid: True\n",
      "SimulatedAnnealer: 6'th iter, beta: 6.4, gamma: 0, objective_value: 1586.6041117749483, is_valid: True\n",
      "SimulatedAnnealer: 7'th iter, beta: 12.8, gamma: 0, objective_value: 1586.6041117749483, is_valid: True\n",
      "SimulatedAnnealer: 8'th iter, beta: 25.6, gamma: 0, objective_value: 1586.6041117749483, is_valid: True\n",
      "SimulatedAnnealer: 9'th iter, beta: 51.2, gamma: 0, objective_value: 1586.6041117749483, is_valid: True\n",
      "SimulatedAnnealer: 10'th iter, beta: 102.4, gamma: 0, objective_value: 1586.6041117749483, is_valid: True\n",
      "3th challenge.\n",
      "SimulatedAnnealer: 1'th iter, beta: 0.2, gamma: 0, objective_value: 2123.5935925034682, is_valid: False\n",
      "SimulatedAnnealer: 2'th iter, beta: 0.4, gamma: 0, objective_value: 1971.365470496019, is_valid: True\n",
      "SimulatedAnnealer: 3'th iter, beta: 0.8, gamma: 0, objective_value: 1971.365470496019, is_valid: True\n",
      "SimulatedAnnealer: 4'th iter, beta: 1.6, gamma: 0, objective_value: 1971.365470496019, is_valid: True\n",
      "SimulatedAnnealer: 5'th iter, beta: 3.2, gamma: 0, objective_value: 1971.365470496019, is_valid: True\n",
      "SimulatedAnnealer: 6'th iter, beta: 6.4, gamma: 0, objective_value: 1971.365470496019, is_valid: True\n",
      "SimulatedAnnealer: 7'th iter, beta: 12.8, gamma: 0, objective_value: 1971.365470496019, is_valid: True\n",
      "SimulatedAnnealer: 8'th iter, beta: 25.6, gamma: 0, objective_value: 1971.365470496019, is_valid: True\n",
      "SimulatedAnnealer: 9'th iter, beta: 51.2, gamma: 0, objective_value: 1971.365470496019, is_valid: True\n",
      "SimulatedAnnealer: 10'th iter, beta: 102.4, gamma: 0, objective_value: 1971.365470496019, is_valid: True\n",
      "4th challenge.\n",
      "SimulatedAnnealer: 1'th iter, beta: 0.2, gamma: 0, objective_value: 3823.706362690582, is_valid: False\n",
      "SimulatedAnnealer: 2'th iter, beta: 0.4, gamma: 0, objective_value: 1490.0327014790582, is_valid: True\n",
      "SimulatedAnnealer: 3'th iter, beta: 0.8, gamma: 0, objective_value: 1490.0327014790582, is_valid: True\n",
      "SimulatedAnnealer: 4'th iter, beta: 1.6, gamma: 0, objective_value: 1490.0327014790582, is_valid: True\n",
      "SimulatedAnnealer: 5'th iter, beta: 3.2, gamma: 0, objective_value: 1490.0327014790582, is_valid: True\n",
      "SimulatedAnnealer: 6'th iter, beta: 6.4, gamma: 0, objective_value: 1490.0327014790582, is_valid: True\n",
      "SimulatedAnnealer: 7'th iter, beta: 12.8, gamma: 0, objective_value: 1490.0327014790582, is_valid: True\n",
      "SimulatedAnnealer: 8'th iter, beta: 25.6, gamma: 0, objective_value: 1490.0327014790582, is_valid: True\n",
      "SimulatedAnnealer: 9'th iter, beta: 51.2, gamma: 0, objective_value: 1490.0327014790582, is_valid: True\n",
      "SimulatedAnnealer: 10'th iter, beta: 102.4, gamma: 0, objective_value: 1490.0327014790582, is_valid: True\n",
      "5th challenge.\n",
      "SimulatedAnnealer: 1'th iter, beta: 0.2, gamma: 0, objective_value: 3516.0251098563576, is_valid: False\n",
      "SimulatedAnnealer: 2'th iter, beta: 0.4, gamma: 0, objective_value: 1656.8809841179645, is_valid: True\n",
      "SimulatedAnnealer: 3'th iter, beta: 0.8, gamma: 0, objective_value: 1656.8809841179645, is_valid: True\n",
      "SimulatedAnnealer: 4'th iter, beta: 1.6, gamma: 0, objective_value: 1656.8809841179645, is_valid: True\n",
      "SimulatedAnnealer: 5'th iter, beta: 3.2, gamma: 0, objective_value: 1656.8809841179645, is_valid: True\n",
      "SimulatedAnnealer: 6'th iter, beta: 6.4, gamma: 0, objective_value: 1656.8809841179645, is_valid: True\n",
      "SimulatedAnnealer: 7'th iter, beta: 12.8, gamma: 0, objective_value: 1656.8809841179645, is_valid: True\n",
      "SimulatedAnnealer: 8'th iter, beta: 25.6, gamma: 0, objective_value: 1656.8809841179645, is_valid: True\n",
      "SimulatedAnnealer: 9'th iter, beta: 51.2, gamma: 0, objective_value: 1656.8809841179645, is_valid: True\n",
      "SimulatedAnnealer: 10'th iter, beta: 102.4, gamma: 0, objective_value: 1656.8809841179645, is_valid: True\n",
      "6th challenge.\n",
      "SimulatedAnnealer: 1'th iter, beta: 0.2, gamma: 0, objective_value: 2405.6297548602943, is_valid: False\n",
      "SimulatedAnnealer: 2'th iter, beta: 0.4, gamma: 0, objective_value: 1473.6988602039874, is_valid: True\n",
      "SimulatedAnnealer: 3'th iter, beta: 0.8, gamma: 0, objective_value: 1473.6988602039874, is_valid: True\n",
      "SimulatedAnnealer: 4'th iter, beta: 1.6, gamma: 0, objective_value: 1473.6988602039874, is_valid: True\n",
      "SimulatedAnnealer: 5'th iter, beta: 3.2, gamma: 0, objective_value: 1473.6988602039874, is_valid: True\n",
      "SimulatedAnnealer: 6'th iter, beta: 6.4, gamma: 0, objective_value: 1473.6988602039874, is_valid: True\n",
      "SimulatedAnnealer: 7'th iter, beta: 12.8, gamma: 0, objective_value: 1473.6988602039874, is_valid: True\n",
      "SimulatedAnnealer: 8'th iter, beta: 25.6, gamma: 0, objective_value: 1473.6988602039874, is_valid: True\n",
      "SimulatedAnnealer: 9'th iter, beta: 51.2, gamma: 0, objective_value: 1473.6988602039874, is_valid: True\n",
      "SimulatedAnnealer: 10'th iter, beta: 102.4, gamma: 0, objective_value: 1473.6988602039874, is_valid: True\n",
      "7th challenge.\n",
      "SimulatedAnnealer: 1'th iter, beta: 0.2, gamma: 0, objective_value: 3090.8901379052377, is_valid: False\n",
      "SimulatedAnnealer: 2'th iter, beta: 0.4, gamma: 0, objective_value: 1821.2430495933277, is_valid: True\n",
      "SimulatedAnnealer: 3'th iter, beta: 0.8, gamma: 0, objective_value: 1821.2430495933277, is_valid: True\n",
      "SimulatedAnnealer: 4'th iter, beta: 1.6, gamma: 0, objective_value: 1821.2430495933277, is_valid: True\n",
      "SimulatedAnnealer: 5'th iter, beta: 3.2, gamma: 0, objective_value: 1821.2430495933277, is_valid: True\n",
      "SimulatedAnnealer: 6'th iter, beta: 6.4, gamma: 0, objective_value: 1821.2430495933277, is_valid: True\n",
      "SimulatedAnnealer: 7'th iter, beta: 12.8, gamma: 0, objective_value: 1821.2430495933277, is_valid: True\n",
      "SimulatedAnnealer: 8'th iter, beta: 25.6, gamma: 0, objective_value: 1821.2430495933277, is_valid: True\n",
      "SimulatedAnnealer: 9'th iter, beta: 51.2, gamma: 0, objective_value: 1821.2430495933277, is_valid: True\n",
      "SimulatedAnnealer: 10'th iter, beta: 102.4, gamma: 0, objective_value: 1821.2430495933277, is_valid: True\n",
      "8th challenge.\n",
      "SimulatedAnnealer: 1'th iter, beta: 0.2, gamma: 0, objective_value: 3740.4075215414805, is_valid: False\n",
      "SimulatedAnnealer: 2'th iter, beta: 0.4, gamma: 0, objective_value: 1874.0140478068188, is_valid: True\n",
      "SimulatedAnnealer: 3'th iter, beta: 0.8, gamma: 0, objective_value: 1874.0140478068188, is_valid: True\n",
      "SimulatedAnnealer: 4'th iter, beta: 1.6, gamma: 0, objective_value: 1874.0140478068188, is_valid: True\n",
      "SimulatedAnnealer: 5'th iter, beta: 3.2, gamma: 0, objective_value: 1874.0140478068188, is_valid: True\n",
      "SimulatedAnnealer: 6'th iter, beta: 6.4, gamma: 0, objective_value: 1874.0140478068188, is_valid: True\n",
      "SimulatedAnnealer: 7'th iter, beta: 12.8, gamma: 0, objective_value: 1874.0140478068188, is_valid: True\n",
      "SimulatedAnnealer: 8'th iter, beta: 25.6, gamma: 0, objective_value: 1874.0140478068188, is_valid: True\n",
      "SimulatedAnnealer: 9'th iter, beta: 51.2, gamma: 0, objective_value: 1874.0140478068188, is_valid: True\n",
      "SimulatedAnnealer: 10'th iter, beta: 102.4, gamma: 0, objective_value: 1874.0140478068188, is_valid: True\n",
      "9th challenge.\n",
      "SimulatedAnnealer: 1'th iter, beta: 0.2, gamma: 0, objective_value: 3393.3831512766155, is_valid: False\n",
      "SimulatedAnnealer: 2'th iter, beta: 0.4, gamma: 0, objective_value: 1672.5496854380744, is_valid: True\n",
      "SimulatedAnnealer: 3'th iter, beta: 0.8, gamma: 0, objective_value: 1672.5496854380744, is_valid: True\n",
      "SimulatedAnnealer: 4'th iter, beta: 1.6, gamma: 0, objective_value: 1672.5496854380744, is_valid: True\n",
      "SimulatedAnnealer: 5'th iter, beta: 3.2, gamma: 0, objective_value: 1672.5496854380744, is_valid: True\n",
      "SimulatedAnnealer: 6'th iter, beta: 6.4, gamma: 0, objective_value: 1672.5496854380744, is_valid: True\n",
      "SimulatedAnnealer: 7'th iter, beta: 12.8, gamma: 0, objective_value: 1672.5496854380744, is_valid: True\n",
      "SimulatedAnnealer: 8'th iter, beta: 25.6, gamma: 0, objective_value: 1672.5496854380744, is_valid: True\n",
      "SimulatedAnnealer: 9'th iter, beta: 51.2, gamma: 0, objective_value: 1672.5496854380744, is_valid: True\n",
      "SimulatedAnnealer: 10'th iter, beta: 102.4, gamma: 0, objective_value: 1672.5496854380744, is_valid: True\n",
      "10th challenge.\n",
      "SimulatedAnnealer: 1'th iter, beta: 0.2, gamma: 0, objective_value: 2583.4360385621694, is_valid: False\n",
      "SimulatedAnnealer: 2'th iter, beta: 0.4, gamma: 0, objective_value: 1906.4045257894431, is_valid: True\n",
      "SimulatedAnnealer: 3'th iter, beta: 0.8, gamma: 0, objective_value: 1906.4045257894431, is_valid: True\n",
      "SimulatedAnnealer: 4'th iter, beta: 1.6, gamma: 0, objective_value: 1906.4045257894431, is_valid: True\n",
      "SimulatedAnnealer: 5'th iter, beta: 3.2, gamma: 0, objective_value: 1906.4045257894431, is_valid: True\n",
      "SimulatedAnnealer: 6'th iter, beta: 6.4, gamma: 0, objective_value: 1906.4045257894431, is_valid: True\n",
      "SimulatedAnnealer: 7'th iter, beta: 12.8, gamma: 0, objective_value: 1906.4045257894431, is_valid: True\n",
      "SimulatedAnnealer: 8'th iter, beta: 25.6, gamma: 0, objective_value: 1906.4045257894431, is_valid: True\n",
      "SimulatedAnnealer: 9'th iter, beta: 51.2, gamma: 0, objective_value: 1906.4045257894431, is_valid: True\n",
      "SimulatedAnnealer: 10'th iter, beta: 102.4, gamma: 0, objective_value: 1906.4045257894431, is_valid: True\n",
      "11th challenge.\n",
      "SimulatedAnnealer: 1'th iter, beta: 0.2, gamma: 0, objective_value: 4079.865081052063, is_valid: False\n",
      "SimulatedAnnealer: 2'th iter, beta: 0.4, gamma: 0, objective_value: 1946.231453870767, is_valid: True\n",
      "SimulatedAnnealer: 3'th iter, beta: 0.8, gamma: 0, objective_value: 1946.231453870767, is_valid: True\n",
      "SimulatedAnnealer: 4'th iter, beta: 1.6, gamma: 0, objective_value: 1946.231453870767, is_valid: True\n",
      "SimulatedAnnealer: 5'th iter, beta: 3.2, gamma: 0, objective_value: 1946.231453870767, is_valid: True\n",
      "SimulatedAnnealer: 6'th iter, beta: 6.4, gamma: 0, objective_value: 1946.231453870767, is_valid: True\n",
      "SimulatedAnnealer: 7'th iter, beta: 12.8, gamma: 0, objective_value: 1946.231453870767, is_valid: True\n",
      "SimulatedAnnealer: 8'th iter, beta: 25.6, gamma: 0, objective_value: 1946.231453870767, is_valid: True\n",
      "SimulatedAnnealer: 9'th iter, beta: 51.2, gamma: 0, objective_value: 1946.231453870767, is_valid: True\n",
      "SimulatedAnnealer: 10'th iter, beta: 102.4, gamma: 0, objective_value: 1946.231453870767, is_valid: True\n",
      "12th challenge.\n",
      "SimulatedAnnealer: 1'th iter, beta: 0.2, gamma: 0, objective_value: 3618.3191570693525, is_valid: False\n",
      "SimulatedAnnealer: 2'th iter, beta: 0.4, gamma: 0, objective_value: 1890.6015526068004, is_valid: True\n",
      "SimulatedAnnealer: 3'th iter, beta: 0.8, gamma: 0, objective_value: 1890.6015526068004, is_valid: True\n",
      "SimulatedAnnealer: 4'th iter, beta: 1.6, gamma: 0, objective_value: 1890.6015526068004, is_valid: True\n",
      "SimulatedAnnealer: 5'th iter, beta: 3.2, gamma: 0, objective_value: 1890.6015526068004, is_valid: True\n",
      "SimulatedAnnealer: 6'th iter, beta: 6.4, gamma: 0, objective_value: 1890.6015526068004, is_valid: True\n",
      "SimulatedAnnealer: 7'th iter, beta: 12.8, gamma: 0, objective_value: 1890.6015526068004, is_valid: True\n",
      "SimulatedAnnealer: 8'th iter, beta: 25.6, gamma: 0, objective_value: 1890.6015526068004, is_valid: True\n",
      "SimulatedAnnealer: 9'th iter, beta: 51.2, gamma: 0, objective_value: 1890.6015526068004, is_valid: True\n",
      "SimulatedAnnealer: 10'th iter, beta: 102.4, gamma: 0, objective_value: 1890.6015526068004, is_valid: True\n",
      "13th challenge.\n",
      "SimulatedAnnealer: 1'th iter, beta: 0.2, gamma: 0, objective_value: 4231.504183441523, is_valid: False\n",
      "SimulatedAnnealer: 2'th iter, beta: 0.4, gamma: 0, objective_value: 1771.505447274225, is_valid: True\n",
      "SimulatedAnnealer: 3'th iter, beta: 0.8, gamma: 0, objective_value: 1772.5448823429342, is_valid: False\n",
      "SimulatedAnnealer: 4'th iter, beta: 1.6, gamma: 0, objective_value: 1771.505447274225, is_valid: True\n",
      "SimulatedAnnealer: 5'th iter, beta: 3.2, gamma: 0, objective_value: 1771.505447274225, is_valid: True\n",
      "SimulatedAnnealer: 6'th iter, beta: 6.4, gamma: 0, objective_value: 1771.505447274225, is_valid: True\n",
      "SimulatedAnnealer: 7'th iter, beta: 12.8, gamma: 0, objective_value: 1771.505447274225, is_valid: True\n",
      "SimulatedAnnealer: 8'th iter, beta: 25.6, gamma: 0, objective_value: 1771.505447274225, is_valid: True\n",
      "SimulatedAnnealer: 9'th iter, beta: 51.2, gamma: 0, objective_value: 1771.505447274225, is_valid: True\n",
      "SimulatedAnnealer: 10'th iter, beta: 102.4, gamma: 0, objective_value: 1771.505447274225, is_valid: True\n",
      "14th challenge.\n",
      "SimulatedAnnealer: 1'th iter, beta: 0.2, gamma: 0, objective_value: 2871.649934058354, is_valid: False\n",
      "SimulatedAnnealer: 2'th iter, beta: 0.4, gamma: 0, objective_value: 1521.8119924744587, is_valid: True\n",
      "SimulatedAnnealer: 3'th iter, beta: 0.8, gamma: 0, objective_value: 1521.8119924744587, is_valid: True\n",
      "SimulatedAnnealer: 4'th iter, beta: 1.6, gamma: 0, objective_value: 1521.8119924744587, is_valid: True\n",
      "SimulatedAnnealer: 5'th iter, beta: 3.2, gamma: 0, objective_value: 1521.8119924744587, is_valid: True\n",
      "SimulatedAnnealer: 6'th iter, beta: 6.4, gamma: 0, objective_value: 1521.8119924744587, is_valid: True\n",
      "SimulatedAnnealer: 7'th iter, beta: 12.8, gamma: 0, objective_value: 1521.8119924744587, is_valid: True\n",
      "SimulatedAnnealer: 8'th iter, beta: 25.6, gamma: 0, objective_value: 1521.8119924744587, is_valid: True\n",
      "SimulatedAnnealer: 9'th iter, beta: 51.2, gamma: 0, objective_value: 1521.8119924744587, is_valid: True\n",
      "SimulatedAnnealer: 10'th iter, beta: 102.4, gamma: 0, objective_value: 1521.8119924744587, is_valid: True\n",
      "15th challenge.\n",
      "SimulatedAnnealer: 1'th iter, beta: 0.2, gamma: 0, objective_value: 3681.803307042732, is_valid: False\n",
      "SimulatedAnnealer: 2'th iter, beta: 0.4, gamma: 0, objective_value: 1408.6264043471292, is_valid: True\n",
      "SimulatedAnnealer: 3'th iter, beta: 0.8, gamma: 0, objective_value: 1408.6264043471292, is_valid: True\n",
      "SimulatedAnnealer: 4'th iter, beta: 1.6, gamma: 0, objective_value: 1408.6264043471292, is_valid: True\n",
      "SimulatedAnnealer: 5'th iter, beta: 3.2, gamma: 0, objective_value: 1408.6264043471292, is_valid: True\n",
      "SimulatedAnnealer: 6'th iter, beta: 6.4, gamma: 0, objective_value: 1408.6264043471292, is_valid: True\n",
      "SimulatedAnnealer: 7'th iter, beta: 12.8, gamma: 0, objective_value: 1408.6264043471292, is_valid: True\n",
      "SimulatedAnnealer: 8'th iter, beta: 25.6, gamma: 0, objective_value: 1408.6264043471292, is_valid: True\n",
      "SimulatedAnnealer: 9'th iter, beta: 51.2, gamma: 0, objective_value: 1408.6264043471292, is_valid: True\n",
      "SimulatedAnnealer: 10'th iter, beta: 102.4, gamma: 0, objective_value: 1408.6264043471292, is_valid: True\n",
      "annealing time: 1.3062160015106201\n",
      "annealer: SimulatedAnnealer(model=ClassicalIsingModel(j=defaultdic..., h=[[ 802.773..., c=-7224.9571458937135, beta=102.4, state=QUBOState(sigma=np.array((9, 9))), ), beta_factor=2)\n",
      "iterations(average): 10.0\n",
      "objective: 1408.6264043471292\n",
      "state: [[0 0 1 0 0 0 0 0 0]\n",
      " [0 0 0 0 1 0 0 0 0]\n",
      " [1 0 0 0 0 0 0 0 0]\n",
      " [0 0 0 0 0 0 0 0 1]\n",
      " [0 0 0 0 0 1 0 0 0]\n",
      " [0 0 0 1 0 0 0 0 0]\n",
      " [0 0 0 0 0 0 0 1 0]\n",
      " [0 0 0 0 0 0 1 0 0]\n",
      " [0 1 0 0 0 0 0 0 0]]\n"
     ]
    }
   ],
   "source": [
    "c_history = []\n",
    "min_energy = float('inf')\n",
    "best_annealer = None\n",
    "iter = 0\n",
    "start = time.time()\n",
    "for i in range(16):\n",
    "    print('{}th challenge.'.format(i))\n",
    "    callback = Callback()\n",
    "    c_model = ClassicalIsingModel(j, h, c,  state_shape=h.shape)\n",
    "    c_annealer = SimulatedAnnealer(c_model, beta_factor=2)  # max_iter が小さいので、 beta_factor は大きく取っている\n",
    "    c_annealer.anneal(iter_callback=callback, max_iter=10)\n",
    "    c_history.append(callback.history)\n",
    "    energy = c_model.objective_value()\n",
    "    iter += c_annealer.iter_count\n",
    "    if energy < min_energy:\n",
    "        min_energy = energy\n",
    "        best_annealer = c_annealer\n",
    "\n",
    "best_model = best_annealer.model\n",
    "print('annealing time: {}'.format(time.time() - start))\n",
    "print('annealer: {}'.format(best_annealer))\n",
    "print('iterations(average): {}'.format(iter/16))\n",
    "print('objective: {}'.format(best_model.objective_value()))\n",
    "print('state: {}'.format(best_model.state.to_array()))"
   ]
  },
  {
   "cell_type": "markdown",
   "metadata": {},
   "source": [
    "## 量子アニーリングの実施\n",
    "量子アニーリングを実施します。<br>\n",
    "シミュレーティッドアニーリングに合わせて、 トロッタ数(並列数)を16とします。"
   ]
  },
  {
   "cell_type": "code",
   "execution_count": 7,
   "metadata": {
    "collapsed": false,
    "scrolled": false
   },
   "outputs": [
    {
     "name": "stdout",
     "output_type": "stream",
     "text": [
      "QuantumAnnealer: 1'th iter, beta: 100.0, gamma: 0.5, objective_value: 1791.063435215532, is_valid: False\n",
      "QuantumAnnealer: 2'th iter, beta: 100.0, gamma: 0.25, objective_value: 1253.302610491166, is_valid: True\n",
      "QuantumAnnealer: 3'th iter, beta: 100.0, gamma: 0.125, objective_value: 1253.302610491166, is_valid: True\n",
      "QuantumAnnealer: 4'th iter, beta: 100.0, gamma: 0.0625, objective_value: 1253.302610491166, is_valid: True\n",
      "QuantumAnnealer: 5'th iter, beta: 100.0, gamma: 0.03125, objective_value: 1253.302610491166, is_valid: True\n",
      "QuantumAnnealer: 6'th iter, beta: 100.0, gamma: 0.015625, objective_value: 1253.302610491166, is_valid: True\n",
      "QuantumAnnealer: 7'th iter, beta: 100.0, gamma: 0.0078125, objective_value: 1253.302610491166, is_valid: True\n",
      "QuantumAnnealer: 8'th iter, beta: 100.0, gamma: 0.00390625, objective_value: 1253.302610491166, is_valid: True\n",
      "QuantumAnnealer: 9'th iter, beta: 100.0, gamma: 0.001953125, objective_value: 1253.302610491166, is_valid: True\n",
      "QuantumAnnealer: 10'th iter, beta: 100.0, gamma: 0.0009765625, objective_value: 1253.302610491166, is_valid: True\n",
      "annealing time: 130.78440403938293\n",
      "annealer: QuantumAnnealer(model=QuantumIsingModel(j=defaultdic..., h=[[ 802.773..., c=-7224.9571458937135, state=QUBOState(sigma=np.array((9, 9)), classical_state_class=<class 'anneal.models.classicalisingmodel.ClassicalIsingModel.QUBOState'>), beta=100.0, gamma=0.0009765625, , beta_factor=1.0, gamma_factor=0.5)\n",
      "iterations: 10\n",
      "objective: 1253.302610491166\n",
      "best state: [[0 1 0 0 0 0 0 0 0]\n",
      " [0 0 0 1 0 0 0 0 0]\n",
      " [0 0 0 0 0 0 0 1 0]\n",
      " [0 0 0 0 1 0 0 0 0]\n",
      " [1 0 0 0 0 0 0 0 0]\n",
      " [0 0 0 0 0 1 0 0 0]\n",
      " [0 0 0 0 0 0 0 0 1]\n",
      " [0 0 0 0 0 0 1 0 0]\n",
      " [0 0 1 0 0 0 0 0 0]]\n",
      "energy of observed: 1253.302610491166\n"
     ]
    }
   ],
   "source": [
    "start = time.time()\n",
    "callback = Callback()\n",
    "q_model = QuantumIsingModel(j, h, c, state_shape=h.shape, n_trotter=100) \n",
    "q_annealer = QuantumAnnealer(q_model, gamma_factor=0.5)  # max_iter が小さいので、 gamma_factor は小さく取っている\n",
    "q_annealer.anneal(iter_callback=callback, max_iter=10)\n",
    "observed = q_model.observe_best()\n",
    "print('annealing time: {}'.format(time.time() - start))\n",
    "print('annealer: {}'.format(q_annealer))\n",
    "print('iterations: {}'.format(q_annealer.iter_count))\n",
    "print('objective: {}'.format(q_model.objective_value()))\n",
    "print('best state: {}'.format(observed.to_array()))\n",
    "print('energy of observed: {}'.format(c_model.energy(observed)))"
   ]
  },
  {
   "cell_type": "code",
   "execution_count": 8,
   "metadata": {
    "collapsed": false
   },
   "outputs": [],
   "source": [
    "def plot_route(state, positions):\n",
    "    route = [positions[np.argmax(row)] for row in state.to_array()]\n",
    "    route.append(route[0])\n",
    "    route = np.array(route)\n",
    "    \n",
    "    d = 0\n",
    "    for i in range(1, len(route)):\n",
    "        d += dist(route[i - 1], route[i])\n",
    "    print(d)\n",
    "    plt.plot(route[:, 0], route[:, 1], '-o')"
   ]
  },
  {
   "cell_type": "code",
   "execution_count": 9,
   "metadata": {
    "collapsed": false
   },
   "outputs": [
    {
     "name": "stdout",
     "output_type": "stream",
     "text": [
      "Simulated Annealing\n",
      "1408.62640435\n"
     ]
    },
    {
     "data": {
      "image/png": "[encoded data removed]",
      "text/plain": [
       "<matplotlib.figure.Figure at 0x108038550>"
      ]
     },
     "metadata": {},
     "output_type": "display_data"
    },
    {
     "name": "stdout",
     "output_type": "stream",
     "text": [
      "Quantum Annealing\n",
      "1253.30261049\n"
     ]
    },
    {
     "data": {
      "image/png": "[encoded data removed]",
      "text/plain": [
       "<matplotlib.figure.Figure at 0x107a08390>"
      ]
     },
     "metadata": {},
     "output_type": "display_data"
    }
   ],
   "source": [
    "print('Simulated Annealing')\n",
    "plot_route(best_model.state, POSITIONS)\n",
    "plt.show()\n",
    "print('Quantum Annealing')\n",
    "plot_route(observed, POSITIONS)\n",
    "plt.show()"
   ]
  },
  {
   "cell_type": "code",
   "execution_count": null,
   "metadata": {
    "collapsed": true
   },
   "outputs": [],
   "source": []
  }
 ],
 "metadata": {
  "kernelspec": {
   "display_name": "Python 3",
   "language": "python",
   "name": "python3"
  },
  "language_info": {
   "codemirror_mode": {
    "name": "ipython",
    "version": 3
   },
   "file_extension": ".py",
   "mimetype": "text/x-python",
   "name": "python",
   "nbconvert_exporter": "python",
   "pygments_lexer": "ipython3",
   "version": "3.5.1"
  }
 },
 "nbformat": 4,
 "nbformat_minor": 2
}
